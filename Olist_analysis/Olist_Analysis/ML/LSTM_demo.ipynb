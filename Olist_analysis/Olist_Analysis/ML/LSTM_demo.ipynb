{
 "cells": [
  {
   "metadata": {},
   "cell_type": "markdown",
   "source": [
    "第一部分: \n",
    "\n",
    "獲取數據進行 對數據的 特征抽取 \n",
    "\n",
    "獲得 特征值 和 目標值"
   ],
   "id": "e5deb36815721124"
  },
  {
   "cell_type": "code",
   "id": "initial_id",
   "metadata": {
    "collapsed": true,
    "ExecuteTime": {
     "end_time": "2024-07-15T15:12:41.123323Z",
     "start_time": "2024-07-15T15:12:40.528081Z"
    }
   },
   "source": [
    "import pandas as pd\n",
    "\n",
    "# 加載order_payments_dataset.csv文件\n",
    "order_payments_df = pd.read_csv(\"C:/Users/KK Chan/Desktop/作業/fianl_project/data/olist_order_payments_dataset.csv\")\n",
    "\n",
    "# 加載orders_dataset.csv文件\n",
    "orders_df = pd.read_csv(\"C:/Users/KK Chan/Desktop/作業/fianl_project/data/olist_orders_dataset.csv\")"
   ],
   "outputs": [],
   "execution_count": 56
  },
  {
   "metadata": {
    "ExecuteTime": {
     "end_time": "2024-07-15T15:12:43.113777Z",
     "start_time": "2024-07-15T15:12:43.092753Z"
    }
   },
   "cell_type": "code",
   "source": [
    "# 檢查每個數據框中的缺失值數量\n",
    "print(order_payments_df.isnull().sum())"
   ],
   "id": "1cc1fcf3af5624c3",
   "outputs": [
    {
     "name": "stdout",
     "output_type": "stream",
     "text": [
      "order_id                0\n",
      "payment_sequential      0\n",
      "payment_type            0\n",
      "payment_installments    0\n",
      "payment_value           0\n",
      "dtype: int64\n"
     ]
    }
   ],
   "execution_count": 57
  },
  {
   "metadata": {
    "ExecuteTime": {
     "end_time": "2024-07-15T15:12:45.200736Z",
     "start_time": "2024-07-15T15:12:45.181703Z"
    }
   },
   "cell_type": "code",
   "source": [
    "# 將缺失值標記為 'Unknown'\n",
    "orders_df['order_delivered_customer_date'].fillna('Unknown', inplace=True)\n",
    "orders_df['order_delivered_carrier_date'].fillna('Unknown', inplace=True)\n",
    "orders_df['order_approved_at'].fillna('Unknown', inplace=True)"
   ],
   "id": "9214687947ea7569",
   "outputs": [
    {
     "name": "stderr",
     "output_type": "stream",
     "text": [
      "C:\\Users\\KK Chan\\AppData\\Local\\Temp\\ipykernel_10612\\78815999.py:2: FutureWarning: A value is trying to be set on a copy of a DataFrame or Series through chained assignment using an inplace method.\n",
      "The behavior will change in pandas 3.0. This inplace method will never work because the intermediate object on which we are setting values always behaves as a copy.\n",
      "\n",
      "For example, when doing 'df[col].method(value, inplace=True)', try using 'df.method({col: value}, inplace=True)' or df[col] = df[col].method(value) instead, to perform the operation inplace on the original object.\n",
      "\n",
      "\n",
      "  orders_df['order_delivered_customer_date'].fillna('Unknown', inplace=True)\n",
      "C:\\Users\\KK Chan\\AppData\\Local\\Temp\\ipykernel_10612\\78815999.py:3: FutureWarning: A value is trying to be set on a copy of a DataFrame or Series through chained assignment using an inplace method.\n",
      "The behavior will change in pandas 3.0. This inplace method will never work because the intermediate object on which we are setting values always behaves as a copy.\n",
      "\n",
      "For example, when doing 'df[col].method(value, inplace=True)', try using 'df.method({col: value}, inplace=True)' or df[col] = df[col].method(value) instead, to perform the operation inplace on the original object.\n",
      "\n",
      "\n",
      "  orders_df['order_delivered_carrier_date'].fillna('Unknown', inplace=True)\n",
      "C:\\Users\\KK Chan\\AppData\\Local\\Temp\\ipykernel_10612\\78815999.py:4: FutureWarning: A value is trying to be set on a copy of a DataFrame or Series through chained assignment using an inplace method.\n",
      "The behavior will change in pandas 3.0. This inplace method will never work because the intermediate object on which we are setting values always behaves as a copy.\n",
      "\n",
      "For example, when doing 'df[col].method(value, inplace=True)', try using 'df.method({col: value}, inplace=True)' or df[col] = df[col].method(value) instead, to perform the operation inplace on the original object.\n",
      "\n",
      "\n",
      "  orders_df['order_approved_at'].fillna('Unknown', inplace=True)\n"
     ]
    }
   ],
   "execution_count": 58
  },
  {
   "metadata": {
    "ExecuteTime": {
     "end_time": "2024-07-15T15:12:47.780223Z",
     "start_time": "2024-07-15T15:12:47.646769Z"
    }
   },
   "cell_type": "code",
   "source": [
    "# 檢查是否包含任何重複的行\n",
    "print(order_payments_df.duplicated().any())\n",
    "print(orders_df.duplicated().any())"
   ],
   "id": "1c3346ff8466ca58",
   "outputs": [
    {
     "name": "stdout",
     "output_type": "stream",
     "text": [
      "False\n",
      "False\n"
     ]
    }
   ],
   "execution_count": 59
  },
  {
   "metadata": {
    "ExecuteTime": {
     "end_time": "2024-07-15T15:12:49.947241Z",
     "start_time": "2024-07-15T15:12:49.897193Z"
    }
   },
   "cell_type": "code",
   "source": [
    "# 刪除列值不符合指定日期格式\n",
    "orders_df = orders_df[orders_df['order_estimated_delivery_date'].str.contains('^\\d{4}-\\d{2}-\\d{2}')]\n",
    "orders_df"
   ],
   "id": "f68c196128777705",
   "outputs": [
    {
     "data": {
      "text/plain": [
       "                               order_id                       customer_id  \\\n",
       "0      e481f51cbdc54678b7cc49136f2d6af7  9ef432eb6251297304e76186b10a928d   \n",
       "1      53cdb2fc8bc7dce0b6741e2150273451  b0830fb4747a6c6d20dea0b8c802d7ef   \n",
       "2      47770eb9100c2d0c44946d9cf07ec65d  41ce2a54c0b03bf3443c3d931a367089   \n",
       "3      949d5b44dbf5de918fe9c16f97b45f8a  f88197465ea7920adcdbec7375364d82   \n",
       "4      ad21c59c0840e6cb83a9ceb5573f8159  8ab97904e6daea8866dbdbc4fb7aad2c   \n",
       "...                                 ...                               ...   \n",
       "99436  9c5dedf39a927c1b2549525ed64a053c  39bd1228ee8140590ac3aca26f2dfe00   \n",
       "99437  63943bddc261676b46f01ca7ac2f7bd8  1fca14ff2861355f6e5f14306ff977a7   \n",
       "99438  83c1379a015df1e13d02aae0204711ab  1aa71eb042121263aafbe80c1b562c9c   \n",
       "99439  11c177c8e97725db2631073c19f07b62  b331b74b18dc79bcdf6532d51e1637c1   \n",
       "99440  66dea50a8b16d9b4dee7af250b4be1a5  edb027a75a1449115f6b43211ae02a24   \n",
       "\n",
       "      order_status order_purchase_timestamp    order_approved_at  \\\n",
       "0        delivered      2017-10-02 10:56:33  2017-10-02 11:07:15   \n",
       "1        delivered      2018-07-24 20:41:37  2018-07-26 03:24:27   \n",
       "2        delivered      2018-08-08 08:38:49  2018-08-08 08:55:23   \n",
       "3        delivered      2017-11-18 19:28:06  2017-11-18 19:45:59   \n",
       "4        delivered      2018-02-13 21:18:39  2018-02-13 22:20:29   \n",
       "...            ...                      ...                  ...   \n",
       "99436    delivered      2017-03-09 09:54:05  2017-03-09 09:54:05   \n",
       "99437    delivered      2018-02-06 12:58:58  2018-02-06 13:10:37   \n",
       "99438    delivered      2017-08-27 14:46:43  2017-08-27 15:04:16   \n",
       "99439    delivered      2018-01-08 21:28:27  2018-01-08 21:36:21   \n",
       "99440    delivered      2018-03-08 20:57:30  2018-03-09 11:20:28   \n",
       "\n",
       "      order_delivered_carrier_date order_delivered_customer_date  \\\n",
       "0              2017-10-04 19:55:00           2017-10-10 21:25:13   \n",
       "1              2018-07-26 14:31:00           2018-08-07 15:27:45   \n",
       "2              2018-08-08 13:50:00           2018-08-17 18:06:29   \n",
       "3              2017-11-22 13:39:59           2017-12-02 00:28:42   \n",
       "4              2018-02-14 19:46:34           2018-02-16 18:17:02   \n",
       "...                            ...                           ...   \n",
       "99436          2017-03-10 11:18:03           2017-03-17 15:08:01   \n",
       "99437          2018-02-07 23:22:42           2018-02-28 17:37:56   \n",
       "99438          2017-08-28 20:52:26           2017-09-21 11:24:17   \n",
       "99439          2018-01-12 15:35:03           2018-01-25 23:32:54   \n",
       "99440          2018-03-09 22:11:59           2018-03-16 13:08:30   \n",
       "\n",
       "      order_estimated_delivery_date  \n",
       "0               2017-10-18 00:00:00  \n",
       "1               2018-08-13 00:00:00  \n",
       "2               2018-09-04 00:00:00  \n",
       "3               2017-12-15 00:00:00  \n",
       "4               2018-02-26 00:00:00  \n",
       "...                             ...  \n",
       "99436           2017-03-28 00:00:00  \n",
       "99437           2018-03-02 00:00:00  \n",
       "99438           2017-09-27 00:00:00  \n",
       "99439           2018-02-15 00:00:00  \n",
       "99440           2018-04-03 00:00:00  \n",
       "\n",
       "[99441 rows x 8 columns]"
      ],
      "text/html": [
       "<div>\n",
       "<style scoped>\n",
       "    .dataframe tbody tr th:only-of-type {\n",
       "        vertical-align: middle;\n",
       "    }\n",
       "\n",
       "    .dataframe tbody tr th {\n",
       "        vertical-align: top;\n",
       "    }\n",
       "\n",
       "    .dataframe thead th {\n",
       "        text-align: right;\n",
       "    }\n",
       "</style>\n",
       "<table border=\"1\" class=\"dataframe\">\n",
       "  <thead>\n",
       "    <tr style=\"text-align: right;\">\n",
       "      <th></th>\n",
       "      <th>order_id</th>\n",
       "      <th>customer_id</th>\n",
       "      <th>order_status</th>\n",
       "      <th>order_purchase_timestamp</th>\n",
       "      <th>order_approved_at</th>\n",
       "      <th>order_delivered_carrier_date</th>\n",
       "      <th>order_delivered_customer_date</th>\n",
       "      <th>order_estimated_delivery_date</th>\n",
       "    </tr>\n",
       "  </thead>\n",
       "  <tbody>\n",
       "    <tr>\n",
       "      <th>0</th>\n",
       "      <td>e481f51cbdc54678b7cc49136f2d6af7</td>\n",
       "      <td>9ef432eb6251297304e76186b10a928d</td>\n",
       "      <td>delivered</td>\n",
       "      <td>2017-10-02 10:56:33</td>\n",
       "      <td>2017-10-02 11:07:15</td>\n",
       "      <td>2017-10-04 19:55:00</td>\n",
       "      <td>2017-10-10 21:25:13</td>\n",
       "      <td>2017-10-18 00:00:00</td>\n",
       "    </tr>\n",
       "    <tr>\n",
       "      <th>1</th>\n",
       "      <td>53cdb2fc8bc7dce0b6741e2150273451</td>\n",
       "      <td>b0830fb4747a6c6d20dea0b8c802d7ef</td>\n",
       "      <td>delivered</td>\n",
       "      <td>2018-07-24 20:41:37</td>\n",
       "      <td>2018-07-26 03:24:27</td>\n",
       "      <td>2018-07-26 14:31:00</td>\n",
       "      <td>2018-08-07 15:27:45</td>\n",
       "      <td>2018-08-13 00:00:00</td>\n",
       "    </tr>\n",
       "    <tr>\n",
       "      <th>2</th>\n",
       "      <td>47770eb9100c2d0c44946d9cf07ec65d</td>\n",
       "      <td>41ce2a54c0b03bf3443c3d931a367089</td>\n",
       "      <td>delivered</td>\n",
       "      <td>2018-08-08 08:38:49</td>\n",
       "      <td>2018-08-08 08:55:23</td>\n",
       "      <td>2018-08-08 13:50:00</td>\n",
       "      <td>2018-08-17 18:06:29</td>\n",
       "      <td>2018-09-04 00:00:00</td>\n",
       "    </tr>\n",
       "    <tr>\n",
       "      <th>3</th>\n",
       "      <td>949d5b44dbf5de918fe9c16f97b45f8a</td>\n",
       "      <td>f88197465ea7920adcdbec7375364d82</td>\n",
       "      <td>delivered</td>\n",
       "      <td>2017-11-18 19:28:06</td>\n",
       "      <td>2017-11-18 19:45:59</td>\n",
       "      <td>2017-11-22 13:39:59</td>\n",
       "      <td>2017-12-02 00:28:42</td>\n",
       "      <td>2017-12-15 00:00:00</td>\n",
       "    </tr>\n",
       "    <tr>\n",
       "      <th>4</th>\n",
       "      <td>ad21c59c0840e6cb83a9ceb5573f8159</td>\n",
       "      <td>8ab97904e6daea8866dbdbc4fb7aad2c</td>\n",
       "      <td>delivered</td>\n",
       "      <td>2018-02-13 21:18:39</td>\n",
       "      <td>2018-02-13 22:20:29</td>\n",
       "      <td>2018-02-14 19:46:34</td>\n",
       "      <td>2018-02-16 18:17:02</td>\n",
       "      <td>2018-02-26 00:00:00</td>\n",
       "    </tr>\n",
       "    <tr>\n",
       "      <th>...</th>\n",
       "      <td>...</td>\n",
       "      <td>...</td>\n",
       "      <td>...</td>\n",
       "      <td>...</td>\n",
       "      <td>...</td>\n",
       "      <td>...</td>\n",
       "      <td>...</td>\n",
       "      <td>...</td>\n",
       "    </tr>\n",
       "    <tr>\n",
       "      <th>99436</th>\n",
       "      <td>9c5dedf39a927c1b2549525ed64a053c</td>\n",
       "      <td>39bd1228ee8140590ac3aca26f2dfe00</td>\n",
       "      <td>delivered</td>\n",
       "      <td>2017-03-09 09:54:05</td>\n",
       "      <td>2017-03-09 09:54:05</td>\n",
       "      <td>2017-03-10 11:18:03</td>\n",
       "      <td>2017-03-17 15:08:01</td>\n",
       "      <td>2017-03-28 00:00:00</td>\n",
       "    </tr>\n",
       "    <tr>\n",
       "      <th>99437</th>\n",
       "      <td>63943bddc261676b46f01ca7ac2f7bd8</td>\n",
       "      <td>1fca14ff2861355f6e5f14306ff977a7</td>\n",
       "      <td>delivered</td>\n",
       "      <td>2018-02-06 12:58:58</td>\n",
       "      <td>2018-02-06 13:10:37</td>\n",
       "      <td>2018-02-07 23:22:42</td>\n",
       "      <td>2018-02-28 17:37:56</td>\n",
       "      <td>2018-03-02 00:00:00</td>\n",
       "    </tr>\n",
       "    <tr>\n",
       "      <th>99438</th>\n",
       "      <td>83c1379a015df1e13d02aae0204711ab</td>\n",
       "      <td>1aa71eb042121263aafbe80c1b562c9c</td>\n",
       "      <td>delivered</td>\n",
       "      <td>2017-08-27 14:46:43</td>\n",
       "      <td>2017-08-27 15:04:16</td>\n",
       "      <td>2017-08-28 20:52:26</td>\n",
       "      <td>2017-09-21 11:24:17</td>\n",
       "      <td>2017-09-27 00:00:00</td>\n",
       "    </tr>\n",
       "    <tr>\n",
       "      <th>99439</th>\n",
       "      <td>11c177c8e97725db2631073c19f07b62</td>\n",
       "      <td>b331b74b18dc79bcdf6532d51e1637c1</td>\n",
       "      <td>delivered</td>\n",
       "      <td>2018-01-08 21:28:27</td>\n",
       "      <td>2018-01-08 21:36:21</td>\n",
       "      <td>2018-01-12 15:35:03</td>\n",
       "      <td>2018-01-25 23:32:54</td>\n",
       "      <td>2018-02-15 00:00:00</td>\n",
       "    </tr>\n",
       "    <tr>\n",
       "      <th>99440</th>\n",
       "      <td>66dea50a8b16d9b4dee7af250b4be1a5</td>\n",
       "      <td>edb027a75a1449115f6b43211ae02a24</td>\n",
       "      <td>delivered</td>\n",
       "      <td>2018-03-08 20:57:30</td>\n",
       "      <td>2018-03-09 11:20:28</td>\n",
       "      <td>2018-03-09 22:11:59</td>\n",
       "      <td>2018-03-16 13:08:30</td>\n",
       "      <td>2018-04-03 00:00:00</td>\n",
       "    </tr>\n",
       "  </tbody>\n",
       "</table>\n",
       "<p>99441 rows × 8 columns</p>\n",
       "</div>"
      ]
     },
     "execution_count": 60,
     "metadata": {},
     "output_type": "execute_result"
    }
   ],
   "execution_count": 60
  },
  {
   "metadata": {
    "ExecuteTime": {
     "end_time": "2024-07-15T15:12:52.896675Z",
     "start_time": "2024-07-15T15:12:52.862829Z"
    }
   },
   "cell_type": "code",
   "source": [
    "orders_df.info()\n",
    "order_payments_df.info()"
   ],
   "id": "14fa961e0d990017",
   "outputs": [
    {
     "name": "stdout",
     "output_type": "stream",
     "text": [
      "<class 'pandas.core.frame.DataFrame'>\n",
      "RangeIndex: 99441 entries, 0 to 99440\n",
      "Data columns (total 8 columns):\n",
      " #   Column                         Non-Null Count  Dtype \n",
      "---  ------                         --------------  ----- \n",
      " 0   order_id                       99441 non-null  object\n",
      " 1   customer_id                    99441 non-null  object\n",
      " 2   order_status                   99441 non-null  object\n",
      " 3   order_purchase_timestamp       99441 non-null  object\n",
      " 4   order_approved_at              99441 non-null  object\n",
      " 5   order_delivered_carrier_date   99441 non-null  object\n",
      " 6   order_delivered_customer_date  99441 non-null  object\n",
      " 7   order_estimated_delivery_date  99441 non-null  object\n",
      "dtypes: object(8)\n",
      "memory usage: 6.1+ MB\n",
      "<class 'pandas.core.frame.DataFrame'>\n",
      "RangeIndex: 103886 entries, 0 to 103885\n",
      "Data columns (total 5 columns):\n",
      " #   Column                Non-Null Count   Dtype  \n",
      "---  ------                --------------   -----  \n",
      " 0   order_id              103886 non-null  object \n",
      " 1   payment_sequential    103886 non-null  int64  \n",
      " 2   payment_type          103886 non-null  object \n",
      " 3   payment_installments  103886 non-null  int64  \n",
      " 4   payment_value         103886 non-null  float64\n",
      "dtypes: float64(1), int64(2), object(2)\n",
      "memory usage: 4.0+ MB\n"
     ]
    }
   ],
   "execution_count": 61
  },
  {
   "metadata": {
    "ExecuteTime": {
     "end_time": "2024-07-15T15:12:55.625554Z",
     "start_time": "2024-07-15T15:12:55.436513Z"
    }
   },
   "cell_type": "code",
   "source": [
    "# 合併有關連的表格\n",
    "tab1 = pd.merge(order_payments_df,orders_df,on=['order_id','order_id'])\n",
    "tab1.head()"
   ],
   "id": "7951553ec4617398",
   "outputs": [
    {
     "data": {
      "text/plain": [
       "                           order_id  payment_sequential payment_type  \\\n",
       "0  b81ef226f3fe1789b1e8b2acac839d17                   1  credit_card   \n",
       "1  a9810da82917af2d9aefd1278f1dcfa0                   1  credit_card   \n",
       "2  25e8ea4e93396b6fa0d3dd708e76c1bd                   1  credit_card   \n",
       "3  ba78997921bbcdc1373bb41e913ab953                   1  credit_card   \n",
       "4  42fdf880ba16b47b59251dd489d4441a                   1  credit_card   \n",
       "\n",
       "   payment_installments  payment_value                       customer_id  \\\n",
       "0                     8          99.33  0a8556ac6be836b46b3e89920d59291c   \n",
       "1                     1          24.39  f2c7fc58a9de810828715166c672f10a   \n",
       "2                     1          65.71  25b14b69de0b6e184ae6fe2755e478f9   \n",
       "3                     8         107.78  7a5d8efaaa1081f800628c30d2b0728f   \n",
       "4                     2         128.45  15fd6fb8f8312dbb4674e4518d6fa3b3   \n",
       "\n",
       "  order_status order_purchase_timestamp    order_approved_at  \\\n",
       "0    delivered      2018-04-25 22:01:49  2018-04-25 22:15:09   \n",
       "1    delivered      2018-06-26 11:01:38  2018-06-26 11:18:58   \n",
       "2    delivered      2017-12-12 11:19:55  2017-12-14 09:52:34   \n",
       "3    delivered      2017-12-06 12:04:06  2017-12-06 12:13:20   \n",
       "4    delivered      2018-05-21 13:59:17  2018-05-21 16:14:41   \n",
       "\n",
       "  order_delivered_carrier_date order_delivered_customer_date  \\\n",
       "0          2018-05-02 15:20:00           2018-05-09 17:36:51   \n",
       "1          2018-06-28 14:18:00           2018-06-29 20:32:09   \n",
       "2          2017-12-15 20:13:22           2017-12-18 17:24:41   \n",
       "3          2017-12-07 20:28:28           2017-12-21 01:35:51   \n",
       "4          2018-05-22 11:46:00           2018-06-01 21:44:53   \n",
       "\n",
       "  order_estimated_delivery_date  \n",
       "0           2018-05-22 00:00:00  \n",
       "1           2018-07-16 00:00:00  \n",
       "2           2018-01-04 00:00:00  \n",
       "3           2018-01-04 00:00:00  \n",
       "4           2018-06-13 00:00:00  "
      ],
      "text/html": [
       "<div>\n",
       "<style scoped>\n",
       "    .dataframe tbody tr th:only-of-type {\n",
       "        vertical-align: middle;\n",
       "    }\n",
       "\n",
       "    .dataframe tbody tr th {\n",
       "        vertical-align: top;\n",
       "    }\n",
       "\n",
       "    .dataframe thead th {\n",
       "        text-align: right;\n",
       "    }\n",
       "</style>\n",
       "<table border=\"1\" class=\"dataframe\">\n",
       "  <thead>\n",
       "    <tr style=\"text-align: right;\">\n",
       "      <th></th>\n",
       "      <th>order_id</th>\n",
       "      <th>payment_sequential</th>\n",
       "      <th>payment_type</th>\n",
       "      <th>payment_installments</th>\n",
       "      <th>payment_value</th>\n",
       "      <th>customer_id</th>\n",
       "      <th>order_status</th>\n",
       "      <th>order_purchase_timestamp</th>\n",
       "      <th>order_approved_at</th>\n",
       "      <th>order_delivered_carrier_date</th>\n",
       "      <th>order_delivered_customer_date</th>\n",
       "      <th>order_estimated_delivery_date</th>\n",
       "    </tr>\n",
       "  </thead>\n",
       "  <tbody>\n",
       "    <tr>\n",
       "      <th>0</th>\n",
       "      <td>b81ef226f3fe1789b1e8b2acac839d17</td>\n",
       "      <td>1</td>\n",
       "      <td>credit_card</td>\n",
       "      <td>8</td>\n",
       "      <td>99.33</td>\n",
       "      <td>0a8556ac6be836b46b3e89920d59291c</td>\n",
       "      <td>delivered</td>\n",
       "      <td>2018-04-25 22:01:49</td>\n",
       "      <td>2018-04-25 22:15:09</td>\n",
       "      <td>2018-05-02 15:20:00</td>\n",
       "      <td>2018-05-09 17:36:51</td>\n",
       "      <td>2018-05-22 00:00:00</td>\n",
       "    </tr>\n",
       "    <tr>\n",
       "      <th>1</th>\n",
       "      <td>a9810da82917af2d9aefd1278f1dcfa0</td>\n",
       "      <td>1</td>\n",
       "      <td>credit_card</td>\n",
       "      <td>1</td>\n",
       "      <td>24.39</td>\n",
       "      <td>f2c7fc58a9de810828715166c672f10a</td>\n",
       "      <td>delivered</td>\n",
       "      <td>2018-06-26 11:01:38</td>\n",
       "      <td>2018-06-26 11:18:58</td>\n",
       "      <td>2018-06-28 14:18:00</td>\n",
       "      <td>2018-06-29 20:32:09</td>\n",
       "      <td>2018-07-16 00:00:00</td>\n",
       "    </tr>\n",
       "    <tr>\n",
       "      <th>2</th>\n",
       "      <td>25e8ea4e93396b6fa0d3dd708e76c1bd</td>\n",
       "      <td>1</td>\n",
       "      <td>credit_card</td>\n",
       "      <td>1</td>\n",
       "      <td>65.71</td>\n",
       "      <td>25b14b69de0b6e184ae6fe2755e478f9</td>\n",
       "      <td>delivered</td>\n",
       "      <td>2017-12-12 11:19:55</td>\n",
       "      <td>2017-12-14 09:52:34</td>\n",
       "      <td>2017-12-15 20:13:22</td>\n",
       "      <td>2017-12-18 17:24:41</td>\n",
       "      <td>2018-01-04 00:00:00</td>\n",
       "    </tr>\n",
       "    <tr>\n",
       "      <th>3</th>\n",
       "      <td>ba78997921bbcdc1373bb41e913ab953</td>\n",
       "      <td>1</td>\n",
       "      <td>credit_card</td>\n",
       "      <td>8</td>\n",
       "      <td>107.78</td>\n",
       "      <td>7a5d8efaaa1081f800628c30d2b0728f</td>\n",
       "      <td>delivered</td>\n",
       "      <td>2017-12-06 12:04:06</td>\n",
       "      <td>2017-12-06 12:13:20</td>\n",
       "      <td>2017-12-07 20:28:28</td>\n",
       "      <td>2017-12-21 01:35:51</td>\n",
       "      <td>2018-01-04 00:00:00</td>\n",
       "    </tr>\n",
       "    <tr>\n",
       "      <th>4</th>\n",
       "      <td>42fdf880ba16b47b59251dd489d4441a</td>\n",
       "      <td>1</td>\n",
       "      <td>credit_card</td>\n",
       "      <td>2</td>\n",
       "      <td>128.45</td>\n",
       "      <td>15fd6fb8f8312dbb4674e4518d6fa3b3</td>\n",
       "      <td>delivered</td>\n",
       "      <td>2018-05-21 13:59:17</td>\n",
       "      <td>2018-05-21 16:14:41</td>\n",
       "      <td>2018-05-22 11:46:00</td>\n",
       "      <td>2018-06-01 21:44:53</td>\n",
       "      <td>2018-06-13 00:00:00</td>\n",
       "    </tr>\n",
       "  </tbody>\n",
       "</table>\n",
       "</div>"
      ]
     },
     "execution_count": 62,
     "metadata": {},
     "output_type": "execute_result"
    }
   ],
   "execution_count": 62
  },
  {
   "metadata": {
    "ExecuteTime": {
     "end_time": "2024-07-15T15:12:58.259255Z",
     "start_time": "2024-07-15T15:12:58.242593Z"
    }
   },
   "cell_type": "code",
   "source": "tab1.tail()",
   "id": "e8d1eb522ca016ca",
   "outputs": [
    {
     "data": {
      "text/plain": [
       "                                order_id  payment_sequential payment_type  \\\n",
       "103881  0406037ad97740d563a178ecc7a2075c                   1       boleto   \n",
       "103882  7b905861d7c825891d6347454ea7863f                   1  credit_card   \n",
       "103883  32609bbb3dd69b3c066a6860554a77bf                   1  credit_card   \n",
       "103884  b8b61059626efa996a60be9bb9320e10                   1  credit_card   \n",
       "103885  28bbae6599b09d39ca406b747b6632b1                   1       boleto   \n",
       "\n",
       "        payment_installments  payment_value                       customer_id  \\\n",
       "103881                     1         363.31  5d576cb2dfa3bc05612c392a1ee9c654   \n",
       "103882                     2          96.80  2079230c765a88530822a34a4cec2aa0   \n",
       "103883                     1          47.77  e4abb5057ec8cfda9759c0dc415a8188   \n",
       "103884                     5         369.54  5d719b0d300663188169c6560e243f27   \n",
       "103885                     1         191.58  4c7f868f43b5cff577b0becb8c8b7860   \n",
       "\n",
       "       order_status order_purchase_timestamp    order_approved_at  \\\n",
       "103881    delivered      2018-03-08 16:57:23  2018-03-10 03:55:25   \n",
       "103882    delivered      2017-08-18 09:45:35  2017-08-18 10:04:56   \n",
       "103883     invoiced      2017-11-18 17:27:14  2017-11-18 17:46:05   \n",
       "103884    delivered      2018-08-07 23:26:13  2018-08-07 23:45:00   \n",
       "103885    delivered      2017-12-05 08:18:35  2017-12-06 02:50:09   \n",
       "\n",
       "       order_delivered_carrier_date order_delivered_customer_date  \\\n",
       "103881          2018-03-12 18:19:36           2018-03-16 13:09:51   \n",
       "103882          2017-08-18 18:04:24           2017-08-23 22:25:56   \n",
       "103883                      Unknown                       Unknown   \n",
       "103884          2018-08-09 11:46:00           2018-08-21 22:41:46   \n",
       "103885          2017-12-08 00:51:47           2018-02-05 14:59:09   \n",
       "\n",
       "       order_estimated_delivery_date  \n",
       "103881           2018-04-04 00:00:00  \n",
       "103882           2017-09-12 00:00:00  \n",
       "103883           2017-12-05 00:00:00  \n",
       "103884           2018-08-24 00:00:00  \n",
       "103885           2017-12-29 00:00:00  "
      ],
      "text/html": [
       "<div>\n",
       "<style scoped>\n",
       "    .dataframe tbody tr th:only-of-type {\n",
       "        vertical-align: middle;\n",
       "    }\n",
       "\n",
       "    .dataframe tbody tr th {\n",
       "        vertical-align: top;\n",
       "    }\n",
       "\n",
       "    .dataframe thead th {\n",
       "        text-align: right;\n",
       "    }\n",
       "</style>\n",
       "<table border=\"1\" class=\"dataframe\">\n",
       "  <thead>\n",
       "    <tr style=\"text-align: right;\">\n",
       "      <th></th>\n",
       "      <th>order_id</th>\n",
       "      <th>payment_sequential</th>\n",
       "      <th>payment_type</th>\n",
       "      <th>payment_installments</th>\n",
       "      <th>payment_value</th>\n",
       "      <th>customer_id</th>\n",
       "      <th>order_status</th>\n",
       "      <th>order_purchase_timestamp</th>\n",
       "      <th>order_approved_at</th>\n",
       "      <th>order_delivered_carrier_date</th>\n",
       "      <th>order_delivered_customer_date</th>\n",
       "      <th>order_estimated_delivery_date</th>\n",
       "    </tr>\n",
       "  </thead>\n",
       "  <tbody>\n",
       "    <tr>\n",
       "      <th>103881</th>\n",
       "      <td>0406037ad97740d563a178ecc7a2075c</td>\n",
       "      <td>1</td>\n",
       "      <td>boleto</td>\n",
       "      <td>1</td>\n",
       "      <td>363.31</td>\n",
       "      <td>5d576cb2dfa3bc05612c392a1ee9c654</td>\n",
       "      <td>delivered</td>\n",
       "      <td>2018-03-08 16:57:23</td>\n",
       "      <td>2018-03-10 03:55:25</td>\n",
       "      <td>2018-03-12 18:19:36</td>\n",
       "      <td>2018-03-16 13:09:51</td>\n",
       "      <td>2018-04-04 00:00:00</td>\n",
       "    </tr>\n",
       "    <tr>\n",
       "      <th>103882</th>\n",
       "      <td>7b905861d7c825891d6347454ea7863f</td>\n",
       "      <td>1</td>\n",
       "      <td>credit_card</td>\n",
       "      <td>2</td>\n",
       "      <td>96.80</td>\n",
       "      <td>2079230c765a88530822a34a4cec2aa0</td>\n",
       "      <td>delivered</td>\n",
       "      <td>2017-08-18 09:45:35</td>\n",
       "      <td>2017-08-18 10:04:56</td>\n",
       "      <td>2017-08-18 18:04:24</td>\n",
       "      <td>2017-08-23 22:25:56</td>\n",
       "      <td>2017-09-12 00:00:00</td>\n",
       "    </tr>\n",
       "    <tr>\n",
       "      <th>103883</th>\n",
       "      <td>32609bbb3dd69b3c066a6860554a77bf</td>\n",
       "      <td>1</td>\n",
       "      <td>credit_card</td>\n",
       "      <td>1</td>\n",
       "      <td>47.77</td>\n",
       "      <td>e4abb5057ec8cfda9759c0dc415a8188</td>\n",
       "      <td>invoiced</td>\n",
       "      <td>2017-11-18 17:27:14</td>\n",
       "      <td>2017-11-18 17:46:05</td>\n",
       "      <td>Unknown</td>\n",
       "      <td>Unknown</td>\n",
       "      <td>2017-12-05 00:00:00</td>\n",
       "    </tr>\n",
       "    <tr>\n",
       "      <th>103884</th>\n",
       "      <td>b8b61059626efa996a60be9bb9320e10</td>\n",
       "      <td>1</td>\n",
       "      <td>credit_card</td>\n",
       "      <td>5</td>\n",
       "      <td>369.54</td>\n",
       "      <td>5d719b0d300663188169c6560e243f27</td>\n",
       "      <td>delivered</td>\n",
       "      <td>2018-08-07 23:26:13</td>\n",
       "      <td>2018-08-07 23:45:00</td>\n",
       "      <td>2018-08-09 11:46:00</td>\n",
       "      <td>2018-08-21 22:41:46</td>\n",
       "      <td>2018-08-24 00:00:00</td>\n",
       "    </tr>\n",
       "    <tr>\n",
       "      <th>103885</th>\n",
       "      <td>28bbae6599b09d39ca406b747b6632b1</td>\n",
       "      <td>1</td>\n",
       "      <td>boleto</td>\n",
       "      <td>1</td>\n",
       "      <td>191.58</td>\n",
       "      <td>4c7f868f43b5cff577b0becb8c8b7860</td>\n",
       "      <td>delivered</td>\n",
       "      <td>2017-12-05 08:18:35</td>\n",
       "      <td>2017-12-06 02:50:09</td>\n",
       "      <td>2017-12-08 00:51:47</td>\n",
       "      <td>2018-02-05 14:59:09</td>\n",
       "      <td>2017-12-29 00:00:00</td>\n",
       "    </tr>\n",
       "  </tbody>\n",
       "</table>\n",
       "</div>"
      ]
     },
     "execution_count": 63,
     "metadata": {},
     "output_type": "execute_result"
    }
   ],
   "execution_count": 63
  },
  {
   "metadata": {
    "ExecuteTime": {
     "end_time": "2024-07-15T15:13:00.437952Z",
     "start_time": "2024-07-15T15:13:00.393883Z"
    }
   },
   "cell_type": "code",
   "source": [
    "# 按照格式 轉換為日期時間型態（datetime）\n",
    "tab1['order_purchase_timestamp'] = pd.to_datetime(tab1['order_estimated_delivery_date'], format='%Y-%m-%d %H:%M:%S')\n",
    "tab1.info()"
   ],
   "id": "6d4e2da7c4552e",
   "outputs": [
    {
     "name": "stdout",
     "output_type": "stream",
     "text": [
      "<class 'pandas.core.frame.DataFrame'>\n",
      "RangeIndex: 103886 entries, 0 to 103885\n",
      "Data columns (total 12 columns):\n",
      " #   Column                         Non-Null Count   Dtype         \n",
      "---  ------                         --------------   -----         \n",
      " 0   order_id                       103886 non-null  object        \n",
      " 1   payment_sequential             103886 non-null  int64         \n",
      " 2   payment_type                   103886 non-null  object        \n",
      " 3   payment_installments           103886 non-null  int64         \n",
      " 4   payment_value                  103886 non-null  float64       \n",
      " 5   customer_id                    103886 non-null  object        \n",
      " 6   order_status                   103886 non-null  object        \n",
      " 7   order_purchase_timestamp       103886 non-null  datetime64[ns]\n",
      " 8   order_approved_at              103886 non-null  object        \n",
      " 9   order_delivered_carrier_date   103886 non-null  object        \n",
      " 10  order_delivered_customer_date  103886 non-null  object        \n",
      " 11  order_estimated_delivery_date  103886 non-null  object        \n",
      "dtypes: datetime64[ns](1), float64(1), int64(2), object(8)\n",
      "memory usage: 9.5+ MB\n"
     ]
    }
   ],
   "execution_count": 64
  },
  {
   "metadata": {
    "ExecuteTime": {
     "end_time": "2024-07-15T15:13:04.711880Z",
     "start_time": "2024-07-15T15:13:04.649624Z"
    }
   },
   "cell_type": "code",
   "source": [
    "# 按順序排列\n",
    "tab1.sort_values(by='order_purchase_timestamp', ascending=True, inplace=True)\n",
    "len(tab1)"
   ],
   "id": "5f1a88b4fa316d02",
   "outputs": [
    {
     "data": {
      "text/plain": [
       "103886"
      ]
     },
     "execution_count": 65,
     "metadata": {},
     "output_type": "execute_result"
    }
   ],
   "execution_count": 65
  },
  {
   "metadata": {
    "ExecuteTime": {
     "end_time": "2024-07-15T15:13:06.482871Z",
     "start_time": "2024-07-15T15:13:06.454987Z"
    }
   },
   "cell_type": "code",
   "source": [
    "# 對對 payment_value 進行統計分析 生成一個新的摘要 DataFrame\n",
    "df_total = tab1.groupby('order_purchase_timestamp')['payment_value'].sum().reset_index()\n",
    "len(df_total)"
   ],
   "id": "50069ef903469c0e",
   "outputs": [
    {
     "data": {
      "text/plain": [
       "458"
      ]
     },
     "execution_count": 66,
     "metadata": {},
     "output_type": "execute_result"
    }
   ],
   "execution_count": 66
  },
  {
   "metadata": {
    "ExecuteTime": {
     "end_time": "2024-07-15T15:13:09.080674Z",
     "start_time": "2024-07-15T15:13:09.063542Z"
    }
   },
   "cell_type": "code",
   "source": [
    "# 創建一個新的 Series 對象\n",
    "# 獲取每個時間點對應的 payment_value 值\n",
    "# 可以方便地進行時間序列分析或者對 payment_value 進行可視化和統計計算\n",
    "uni_data = df_total['payment_value']\n",
    "uni_data.index = df_total['order_purchase_timestamp']\n",
    "uni_data.head()"
   ],
   "id": "dd53d72a5707e471",
   "outputs": [
    {
     "data": {
      "text/plain": [
       "order_purchase_timestamp\n",
       "2016-09-30     40.95\n",
       "2016-10-20    136.23\n",
       "2016-10-24     61.99\n",
       "2016-10-25    109.34\n",
       "2016-10-27     45.46\n",
       "Name: payment_value, dtype: float64"
      ]
     },
     "execution_count": 67,
     "metadata": {},
     "output_type": "execute_result"
    }
   ],
   "execution_count": 67
  },
  {
   "metadata": {
    "ExecuteTime": {
     "end_time": "2024-07-15T15:13:12.055155Z",
     "start_time": "2024-07-15T15:13:12.040384Z"
    }
   },
   "cell_type": "code",
   "source": "uni_data.info()",
   "id": "d15f1c21abb08d51",
   "outputs": [
    {
     "name": "stdout",
     "output_type": "stream",
     "text": [
      "<class 'pandas.core.series.Series'>\n",
      "DatetimeIndex: 458 entries, 2016-09-30 to 2018-11-12\n",
      "Series name: payment_value\n",
      "Non-Null Count  Dtype  \n",
      "--------------  -----  \n",
      "458 non-null    float64\n",
      "dtypes: float64(1)\n",
      "memory usage: 7.2 KB\n"
     ]
    }
   ],
   "execution_count": 68
  },
  {
   "metadata": {
    "ExecuteTime": {
     "end_time": "2024-07-15T15:13:14.877637Z",
     "start_time": "2024-07-15T15:13:14.858017Z"
    }
   },
   "cell_type": "code",
   "source": [
    "# 由於後面的數據缺失嚴重 \n",
    "# 所以只選取較為完整的前 420 個值\n",
    "payment_values = uni_data[0:420].round(2).tolist()\n",
    "len(payment_values)"
   ],
   "id": "13a652625ce5d87f",
   "outputs": [
    {
     "data": {
      "text/plain": [
       "420"
      ]
     },
     "execution_count": 69,
     "metadata": {},
     "output_type": "execute_result"
    }
   ],
   "execution_count": 69
  },
  {
   "metadata": {
    "ExecuteTime": {
     "end_time": "2024-07-15T15:13:17.339462Z",
     "start_time": "2024-07-15T15:13:17.216722Z"
    }
   },
   "cell_type": "code",
   "source": "uni_data.plot(subplots=True)",
   "id": "59c34b00df8fd4dd",
   "outputs": [
    {
     "data": {
      "text/plain": [
       "array([<Axes: xlabel='order_purchase_timestamp'>], dtype=object)"
      ]
     },
     "execution_count": 70,
     "metadata": {},
     "output_type": "execute_result"
    },
    {
     "data": {
      "text/plain": [
       "<Figure size 640x480 with 1 Axes>"
      ],
      "image/png": "[encoded data removed]"
     },
     "metadata": {},
     "output_type": "display_data"
    }
   ],
   "execution_count": 70
  },
  {
   "metadata": {},
   "cell_type": "markdown",
   "source": [
    "第二部分:\n",
    "\n",
    "建立LSTM模型 和 對數據 進行特征工程處理"
   ],
   "id": "d9a875c1b49bf9af"
  },
  {
   "metadata": {
    "ExecuteTime": {
     "end_time": "2024-07-15T15:13:21.452873Z",
     "start_time": "2024-07-15T15:13:21.437834Z"
    }
   },
   "cell_type": "code",
   "source": [
    "from torch import nn\n",
    "\n",
    "\n",
    "class RegLSTM(nn.Module):\n",
    "    def __init__(self, inp_dim, out_dim, mid_dim, mid_layers):\n",
    "        super(RegLSTM, self).__init__()\n",
    "\n",
    "        # 定義 LSTM 層和回歸層\n",
    "\n",
    "        self.rnn = nn.LSTM(inp_dim, mid_dim, mid_layers)  # rnn  LSTM 層\n",
    "        self.reg = nn.Sequential(\n",
    "            nn.Linear(mid_dim, mid_dim), # 線性層\n",
    "            nn.Tanh(), # 激活函數\n",
    "            nn.Linear(mid_dim, out_dim),  # 線性層\n",
    "        )  \n",
    "\n",
    "    def forward(self, x):\n",
    "        \n",
    "        # 模型的前向傳播\n",
    "        y = self.rnn(x)[0]  # y, (h, c) = self.rnn(x)     \n",
    "        seq_len, batch_size, hid_dim = y.shape\n",
    "        y = y.view(-1, hid_dim)    # 對 y 進行形狀重塑，用於回歸層                        \n",
    "        y = self.reg(y)   # 應用回歸層                                \n",
    "        y = y.view(seq_len, batch_size, -1)  # 將 y 重新恢復原始形狀             \n",
    "        return y\n",
    "\n",
    "    \"\"\"\n",
    "    PyCharm Crtl+click nn.LSTM() jump to code of PyTorch:\n",
    "    Examples::\n",
    "        >>> rnn = nn.LSTM(10, 20, 2)\n",
    "        >>> input = torch.randn(5, 3, 10)     \n",
    "        # 5个时间步，也就是每个时间序列的长度是5,3表示一共有3个时间序列，10表示每个序列在每个时间步的维度是10\n",
    "        >>> h0 = torch.randn(2, 3, 20)\n",
    "        >>> c0 = torch.randn(2, 3, 20)\n",
    "        >>> output, (hn, cn) = rnn(input, (h0, c0))\n",
    "    \"\"\"\n",
    "\n",
    "    def output_y_hc(self, x, hc):\n",
    "\n",
    "        y, hc = self.rnn(x, hc)  # y, (h, c) = self.rnn(x)\n",
    "\n",
    "        seq_len, batch_size, hid_dim = y.size()\n",
    "        y = y.view(-1, hid_dim)\n",
    "        y = self.reg(y)\n",
    "        y = y.view(seq_len, batch_size, -1)\n",
    "        return y, hc"
   ],
   "id": "7c6dfcbdcd28052e",
   "outputs": [],
   "execution_count": 71
  },
  {
   "metadata": {},
   "cell_type": "markdown",
   "source": [
    "以上是一個稱為 `RegLSTM` 的類別，它繼承自 PyTorch 的 `nn.Module`。這個類別實現了一個包含 LSTM 層和回歸層的模型，用於回歸任務。\n",
    "\n",
    "在模型的建構函式 `__init__` 中，我們初始化了 LSTM 層和回歸層。`self.rnn` 是一個 LSTM 層，\n",
    "\n",
    "它接收大小為 `inp_dim` 的輸入，並輸出大小為 `mid_dim` 的中間狀態。\n",
    "\n",
    "`self.reg` 是一個串聯的神經網路模型，包含了兩個線性層和一個激活函數 `nn.Tanh()`。\n",
    "\n",
    "在前向傳播函式 `forward` 中，我們將輸入 `x` 傳遞到 LSTM 層 `self.rnn`，並獲取 LSTM 層的輸出 `y`。\n",
    "\n",
    "接著，我們將 `y` 進行形狀重塑，以便通過回歸層 `self.reg` 進行回歸計算。\n",
    "\n",
    "最後，我們再次將 `y` 轉回原始的形狀，並將結果返回。\n",
    "\n",
    "`output_y_hc` 方法接收輸入 `x` 和隱藏狀態 `hc`，並返回模型的預測結果 `y` 和更新後的隱藏狀態 `hc`。\n",
    "\n",
    "在這個方法中，我們直接將 `x` 和 `hc` 傳遞給 `self.rnn`，並獲取 LSTM 層的輸出 `y` 和更新後的隱藏狀態 `hc`。\n",
    "\n",
    "之後，進行與 `forward` 方法相同的操作，將 `y` 進行形狀重塑、回歸計算，最後將 `y` 再次轉換"
   ],
   "id": "148ec5697f5cd8a0"
  },
  {
   "metadata": {
    "ExecuteTime": {
     "end_time": "2024-07-15T15:13:28.890791Z",
     "start_time": "2024-07-15T15:13:28.878633Z"
    }
   },
   "cell_type": "code",
   "source": [
    "import numpy as np\n",
    "\n",
    "\n",
    "def minmaxscaler(x):\n",
    "    \"\"\"\n",
    "    最小-最大歸一化函式\n",
    "    \n",
    "    Args:\n",
    "        x (ndarray): 輸入的數組\n",
    "        \n",
    "    Returns:\n",
    "        ndarray: 歸一化後的數組\n",
    "        tuple: 最小值和最大值的元組\n",
    "    \"\"\" \n",
    "    minx = np.amin(x)\n",
    "    maxx = np.amax(x)\n",
    "    return (x - minx)/(maxx - minx), (minx, maxx)\n",
    "\n",
    "def preminmaxscaler(x, minx, maxx):\n",
    "    \"\"\"\n",
    "    預處理最小-最大歸一化函式\n",
    "    \n",
    "    Args:\n",
    "        x (ndarray): 輸入的數組\n",
    "        minx (float): 最小值\n",
    "        maxx (float): 最大值\n",
    "        \n",
    "    Returns:\n",
    "        ndarray: 預處理的歸一化數組\n",
    "    \"\"\"\n",
    "    return (x - minx)/(maxx - minx)\n",
    "\n",
    "def unminmaxscaler(x, minx, maxx):\n",
    "    \"\"\"\n",
    "    反向最小-最大歸一化函式\n",
    "    \n",
    "    Args:\n",
    "        x (ndarray): 輸入的數組\n",
    "        minx (float): 最小值\n",
    "        maxx (float): 最大值\n",
    "        \n",
    "    Returns:\n",
    "        ndarray: 反向歸一化後的數組\n",
    "    \"\"\"\n",
    "    return x * (maxx - minx) + minx"
   ],
   "id": "d1e9eb213fefa66b",
   "outputs": [],
   "execution_count": 72
  },
  {
   "metadata": {},
   "cell_type": "markdown",
   "source": [
    "這些函式的應用包括數據預處理、特徵縮放等。\n",
    "\n",
    "最小-最大歸一化可以將數據映射到一個指定的範圍內，使得數據分佈更加均勻，減少不同特徵之間的尺度差異。"
   ],
   "id": "eb0e5e9f9cb09650"
  },
  {
   "metadata": {
    "ExecuteTime": {
     "end_time": "2024-07-15T15:13:34.406778Z",
     "start_time": "2024-07-15T15:13:34.388736Z"
    }
   },
   "cell_type": "code",
   "source": [
    "import torch\n",
    "\n",
    "# 將 payment_values 轉換為 NumPy 數組\n",
    "bchain = np.array(payment_values)\n",
    "bchain = bchain[:, np.newaxis]\n",
    "\n",
    "# 定義維度參數\n",
    "inp_dim = 1\n",
    "out_dim = 1\n",
    "mid_dim = 8\n",
    "mid_layers = 1\n",
    "\n",
    "# 提取輸入和輸出數據\n",
    "data_x = bchain[:-1, :]\n",
    "data_y = bchain[+1:, :]\n",
    "\n",
    "# 定義訓練數據集的大小\n",
    "train_size = 400\n",
    "\n",
    "# 提取訓練數據\n",
    "train_x = data_x[:train_size, :]\n",
    "train_y = data_y[:train_size, :]\n",
    "\n",
    "\n",
    "# 對訓練數據進行最小-最大歸一化處理\n",
    "train_x, train_x_minmax = minmaxscaler(train_x)\n",
    "train_y, train_y_minmax = minmaxscaler(train_y)\n",
    "\n",
    "# 硬件設置\n",
    "device = torch.device(\"cuda\" if torch.cuda.is_available() else \"cpu\")"
   ],
   "id": "ae6c6e5b08a3496a",
   "outputs": [],
   "execution_count": 73
  },
  {
   "metadata": {},
   "cell_type": "markdown",
   "source": "此段代碼的目的是將 payment_values 數據準備成神經網絡模型所需的格式，並對數據進行最小-最大歸一化的預處理。",
   "id": "dc6a3f66b0358f7a"
  },
  {
   "metadata": {
    "ExecuteTime": {
     "end_time": "2024-07-15T15:13:38.340671Z",
     "start_time": "2024-07-15T15:13:38.322457Z"
    }
   },
   "cell_type": "code",
   "source": [
    "batch_x = train_x[:, np.newaxis, :]\n",
    "batch_y = train_y[:, np.newaxis, :]\n",
    "batch_x = torch.tensor(batch_x, dtype=torch.float32, device=device)\n",
    "batch_y = torch.tensor(batch_y, dtype=torch.float32, device=device)"
   ],
   "id": "6d6086a00ea9aad8",
   "outputs": [],
   "execution_count": 74
  },
  {
   "metadata": {},
   "cell_type": "markdown",
   "source": "這段代碼的目的是 將訓練數據轉換為神經網絡模型所需的形狀和數據類型，並將數據移動到指定的設備上。",
   "id": "21851f7da5bcf4c7"
  },
  {
   "metadata": {},
   "cell_type": "markdown",
   "source": [
    "第三部分:\n",
    "\n",
    "訓練模型 \n",
    "\n",
    "並以 .pth 存儲 "
   ],
   "id": "6989209b7aa66b4b"
  },
  {
   "metadata": {
    "ExecuteTime": {
     "end_time": "2024-07-15T15:14:16.395293Z",
     "start_time": "2024-07-15T15:14:12.486794Z"
    }
   },
   "cell_type": "code",
   "source": [
    "# 加載模型\n",
    "model = RegLSTM(inp_dim, out_dim, mid_dim, mid_layers).to(device)\n",
    "loss = nn.MSELoss()\n",
    "optimizer = torch.optim.Adam(model.parameters(), lr=1e-2)\n",
    "\n",
    "# 開始訓練\n",
    "print(\"Training......\")\n",
    "for e in range(801):\n",
    "    out = model(batch_x) # 用模型進行預測，獲得輸出值\n",
    "\n",
    "    Loss = loss(out, batch_y) # 計算預測值和目標值之間的均方誤差損失\n",
    "\n",
    "    optimizer.zero_grad() # 清零優化器的梯度\n",
    "    Loss.backward() # 反向傳播計算梯度\n",
    "    optimizer.step() # 更新模型參數\n",
    "\n",
    "    if e % 10 == 0:\n",
    "        # 每隔 10 輪訓練，輸出當前的訓練輪數和損失值\n",
    "        print('Epoch: {:4}, Loss: {:.5f}'.format(e, Loss.item()))\n",
    "\n",
    "# 儲存模型\n",
    "torch.save(model.state_dict(), './net.pth')\n",
    "print(\"Save in:\", './net.pth')"
   ],
   "id": "f26e5471d774e97c",
   "outputs": [
    {
     "name": "stdout",
     "output_type": "stream",
     "text": [
      "Training......\n",
      "Epoch:    0, Loss: 0.07364\n",
      "Epoch:   10, Loss: 0.04783\n",
      "Epoch:   20, Loss: 0.01981\n",
      "Epoch:   30, Loss: 0.01546\n",
      "Epoch:   40, Loss: 0.01375\n",
      "Epoch:   50, Loss: 0.01331\n",
      "Epoch:   60, Loss: 0.01315\n",
      "Epoch:   70, Loss: 0.01304\n",
      "Epoch:   80, Loss: 0.01296\n",
      "Epoch:   90, Loss: 0.01289\n",
      "Epoch:  100, Loss: 0.01282\n",
      "Epoch:  110, Loss: 0.01276\n",
      "Epoch:  120, Loss: 0.01270\n",
      "Epoch:  130, Loss: 0.01265\n",
      "Epoch:  140, Loss: 0.01259\n",
      "Epoch:  150, Loss: 0.01255\n",
      "Epoch:  160, Loss: 0.01251\n",
      "Epoch:  170, Loss: 0.01247\n",
      "Epoch:  180, Loss: 0.01243\n",
      "Epoch:  190, Loss: 0.01239\n",
      "Epoch:  200, Loss: 0.01234\n",
      "Epoch:  210, Loss: 0.01227\n",
      "Epoch:  220, Loss: 0.01216\n",
      "Epoch:  230, Loss: 0.01198\n",
      "Epoch:  240, Loss: 0.01176\n",
      "Epoch:  250, Loss: 0.01152\n",
      "Epoch:  260, Loss: 0.01103\n",
      "Epoch:  270, Loss: 0.01059\n",
      "Epoch:  280, Loss: 0.01054\n",
      "Epoch:  290, Loss: 0.01062\n",
      "Epoch:  300, Loss: 0.01059\n",
      "Epoch:  310, Loss: 0.01018\n",
      "Epoch:  320, Loss: 0.01010\n",
      "Epoch:  330, Loss: 0.00979\n",
      "Epoch:  340, Loss: 0.00951\n",
      "Epoch:  350, Loss: 0.00924\n",
      "Epoch:  360, Loss: 0.00897\n",
      "Epoch:  370, Loss: 0.00926\n",
      "Epoch:  380, Loss: 0.00886\n",
      "Epoch:  390, Loss: 0.00890\n",
      "Epoch:  400, Loss: 0.00852\n",
      "Epoch:  410, Loss: 0.00826\n",
      "Epoch:  420, Loss: 0.00808\n",
      "Epoch:  430, Loss: 0.00792\n",
      "Epoch:  440, Loss: 0.00776\n",
      "Epoch:  450, Loss: 0.00869\n",
      "Epoch:  460, Loss: 0.00977\n",
      "Epoch:  470, Loss: 0.00829\n",
      "Epoch:  480, Loss: 0.00778\n",
      "Epoch:  490, Loss: 0.00759\n",
      "Epoch:  500, Loss: 0.00743\n",
      "Epoch:  510, Loss: 0.00728\n",
      "Epoch:  520, Loss: 0.00714\n",
      "Epoch:  530, Loss: 0.00699\n",
      "Epoch:  540, Loss: 0.00696\n",
      "Epoch:  550, Loss: 0.00795\n",
      "Epoch:  560, Loss: 0.00695\n",
      "Epoch:  570, Loss: 0.00673\n",
      "Epoch:  580, Loss: 0.00652\n",
      "Epoch:  590, Loss: 0.00637\n",
      "Epoch:  600, Loss: 0.00626\n",
      "Epoch:  610, Loss: 0.00683\n",
      "Epoch:  620, Loss: 0.00620\n",
      "Epoch:  630, Loss: 0.00606\n",
      "Epoch:  640, Loss: 0.00595\n",
      "Epoch:  650, Loss: 0.00589\n",
      "Epoch:  660, Loss: 0.00600\n",
      "Epoch:  670, Loss: 0.00573\n",
      "Epoch:  680, Loss: 0.00573\n",
      "Epoch:  690, Loss: 0.00611\n",
      "Epoch:  700, Loss: 0.00559\n",
      "Epoch:  710, Loss: 0.00573\n",
      "Epoch:  720, Loss: 0.00556\n",
      "Epoch:  730, Loss: 0.00566\n",
      "Epoch:  740, Loss: 0.00538\n",
      "Epoch:  750, Loss: 0.00536\n",
      "Epoch:  760, Loss: 0.00536\n",
      "Epoch:  770, Loss: 0.00538\n",
      "Epoch:  780, Loss: 0.00524\n",
      "Epoch:  790, Loss: 0.00538\n",
      "Epoch:  800, Loss: 0.00516\n",
      "Save in: ./net.pth\n"
     ]
    }
   ],
   "execution_count": 79
  },
  {
   "metadata": {
    "ExecuteTime": {
     "end_time": "2024-07-15T15:14:16.426586Z",
     "start_time": "2024-07-15T15:14:16.397809Z"
    }
   },
   "cell_type": "code",
   "source": [
    "# 創建新數據\n",
    "new_data_x = data_x.copy()\n",
    "new_data_x[train_size:] = 5\n",
    "\n",
    "# 定義測試序列的長度\n",
    "test_len = 40\n",
    "\n",
    "# 定義評估序列的大小\n",
    "eval_size = 1\n",
    "\n",
    "# 創建張量 元素值均為 0\n",
    "zero_ten = torch.zeros((mid_layers, eval_size, mid_dim), dtype=torch.float32, device=device)\n",
    "\n",
    "for i in range(train_size, len(new_data_x)):  # 要预测的是i\n",
    "    test_x = new_data_x[i-test_len:i, np.newaxis, :]\n",
    "    test_x = preminmaxscaler(test_x, train_x_minmax[0], train_x_minmax[1])\n",
    "    batch_test_x = torch.tensor(test_x, dtype=torch.float32, device=device)\n",
    "\n",
    "    if i == train_size:\n",
    "        test_y, hc = model.output_y_hc(batch_test_x, (zero_ten, zero_ten))\n",
    "    else:\n",
    "        test_y, hc = model.output_y_hc(batch_test_x[-2:], hc)\n",
    "    test_y = model(batch_test_x)\n",
    "    predict_y = test_y[-1].item()\n",
    "    predict_y = unminmaxscaler(predict_y, train_x_minmax[0], train_y_minmax[1])\n",
    "    new_data_x[i] = predict_y"
   ],
   "id": "8a1f55929aba6aea",
   "outputs": [],
   "execution_count": 80
  },
  {
   "metadata": {},
   "cell_type": "markdown",
   "source": [
    "以上代碼目的是 創建新數據、設置測試序列和評估序列的大小，\n",
    "\n",
    "以及對測試序列進行預處理、特徵縮放和預測等操作。\n",
    "\n",
    "最終，預測的結果被添加到 'new_data_x' 中，用於後續的應用。"
   ],
   "id": "5fb5f0c681462936"
  },
  {
   "metadata": {},
   "cell_type": "markdown",
   "source": [
    "第四部分:\n",
    "\n",
    "對預測的數據進行可視化"
   ],
   "id": "f1fd3f82f3728d24"
  },
  {
   "metadata": {},
   "cell_type": "code",
   "source": [
    "from matplotlib import pyplot as plt\n",
    "\"\"\"\n",
    "得到預測的數據後\n",
    "使用matplotlib \n",
    "將預測結果進行可視化\n",
    "\"\"\"\n",
    "plt.figure(figsize=(20, 8))\n",
    "plt.plot(new_data_x, 'g', label='pred')\n",
    "plt.plot(data_x, 'r', label='real', alpha=0.3)\n",
    "plt.legend(loc='best')"
   ],
   "id": "e42ac623318f1dff",
   "outputs": [],
   "execution_count": null
  },
  {
   "metadata": {},
   "cell_type": "code",
   "source": [
    "plt.figure(figsize=(20, 8))\n",
    "plt.plot(new_data_x, 'g', label='pred')\n",
    "plt.plot(data_x, 'o', label='real', alpha=0.3)\n",
    "plt.legend(loc='best')"
   ],
   "id": "7ef07b51111b1746",
   "outputs": [],
   "execution_count": null
  },
  {
   "metadata": {},
   "cell_type": "code",
   "outputs": [],
   "execution_count": null,
   "source": "",
   "id": "1461f6e7dc7f6bff"
  }
 ],
 "metadata": {
  "kernelspec": {
   "display_name": "Python 3",
   "language": "python",
   "name": "python3"
  },
  "language_info": {
   "codemirror_mode": {
    "name": "ipython",
    "version": 2
   },
   "file_extension": ".py",
   "mimetype": "text/x-python",
   "name": "python",
   "nbconvert_exporter": "python",
   "pygments_lexer": "ipython2",
   "version": "2.7.6"
  }
 },
 "nbformat": 4,
 "nbformat_minor": 5
}
