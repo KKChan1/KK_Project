{
 "cells": [
  {
   "cell_type": "code",
   "id": "initial_id",
   "metadata": {
    "collapsed": true,
    "ExecuteTime": {
     "end_time": "2024-07-16T01:04:14.853114Z",
     "start_time": "2024-07-16T01:03:13.846193Z"
    }
   },
   "source": [
    "import pandas as pd\n",
    "from nltk.tokenize import word_tokenize\n",
    "from nltk.corpus import stopwords\n",
    "from collections import Counter\n",
    "import nltk\n",
    "nltk.download('punkt')\n",
    "nltk.download('stopwords')\n",
    "\n",
    "# 讀取CSV文件\n",
    "data = pd.read_csv(\"C:/Users/KK Chan/Downloads/olist_order_reviews_dataset_translated01072024.csv\")\n",
    "\n",
    "# 獲取評論消息列的數據\n",
    "review_messages = data['translated_comment']\n",
    "\n",
    "# 創建一個空的詞語列表\n",
    "words = []\n",
    "\n",
    "# 遍歷每個評論消息\n",
    "for message in review_messages:\n",
    "    # 利用NLTK庫的詞語分詞功能將評論消息分詞並轉換為小寫\n",
    "    tokens = word_tokenize(str(message).lower())\n",
    "    # 過濾停用詞\n",
    "    tokens = [word for word in tokens if word.isalnum() and word not in stopwords.words('english')]\n",
    "    # 將分詞結果添加到詞語列表中\n",
    "    words.extend(tokens)\n",
    "\n",
    "# 使用Counter進行詞語統計，獲取最常見的50個詞語\n",
    "most_common_words = Counter(words).most_common(50)\n",
    "\n",
    "\n",
    "# 輸出結果\n",
    "for word, count in most_common_words:\n",
    "    print(f'{word}: {count}')\n",
    "print(most_common_words)\n"
   ],
   "outputs": [
    {
     "name": "stderr",
     "output_type": "stream",
     "text": [
      "[nltk_data] Downloading package punkt to C:\\Users\\KK\n",
      "[nltk_data]     Chan\\AppData\\Roaming\\nltk_data...\n",
      "[nltk_data]   Package punkt is already up-to-date!\n",
      "[nltk_data] Downloading package stopwords to C:\\Users\\KK\n",
      "[nltk_data]     Chan\\AppData\\Roaming\\nltk_data...\n",
      "[nltk_data]   Package stopwords is already up-to-date!\n"
     ]
    },
    {
     "name": "stdout",
     "output_type": "stream",
     "text": [
      "nan: 58275\n",
      "product: 17816\n",
      "good: 6499\n",
      "delivery: 5691\n",
      "delivered: 4494\n",
      "came: 4298\n",
      "time: 4080\n",
      "arrived: 3410\n",
      "recommend: 3331\n",
      "bought: 3291\n",
      "deadline: 3211\n",
      "great: 3153\n",
      "got: 3078\n",
      "one: 2721\n",
      "well: 2628\n",
      "quality: 2474\n",
      "ahead: 2040\n",
      "schedule: 2022\n",
      "received: 1963\n",
      "get: 1941\n",
      "fast: 1919\n",
      "store: 1818\n",
      "yet: 1817\n",
      "right: 1724\n",
      "two: 1675\n",
      "purchase: 1663\n",
      "like: 1376\n",
      "excellent: 1297\n",
      "liked: 1257\n",
      "super: 1255\n",
      "loved: 1233\n",
      "products: 1213\n",
      "perfect: 1188\n",
      "buy: 1098\n",
      "within: 1025\n",
      "beautiful: 1016\n",
      "order: 995\n",
      "website: 949\n",
      "return: 910\n",
      "waiting: 890\n",
      "made: 880\n",
      "days: 871\n",
      "always: 864\n",
      "already: 834\n",
      "lannister: 830\n",
      "deliver: 820\n",
      "expected: 802\n",
      "service: 778\n",
      "would: 777\n",
      "everything: 773\n",
      "[('nan', 58275), ('product', 17816), ('good', 6499), ('delivery', 5691), ('delivered', 4494), ('came', 4298), ('time', 4080), ('arrived', 3410), ('recommend', 3331), ('bought', 3291), ('deadline', 3211), ('great', 3153), ('got', 3078), ('one', 2721), ('well', 2628), ('quality', 2474), ('ahead', 2040), ('schedule', 2022), ('received', 1963), ('get', 1941), ('fast', 1919), ('store', 1818), ('yet', 1817), ('right', 1724), ('two', 1675), ('purchase', 1663), ('like', 1376), ('excellent', 1297), ('liked', 1257), ('super', 1255), ('loved', 1233), ('products', 1213), ('perfect', 1188), ('buy', 1098), ('within', 1025), ('beautiful', 1016), ('order', 995), ('website', 949), ('return', 910), ('waiting', 890), ('made', 880), ('days', 871), ('always', 864), ('already', 834), ('lannister', 830), ('deliver', 820), ('expected', 802), ('service', 778), ('would', 777), ('everything', 773)]\n"
     ]
    }
   ],
   "execution_count": 2
  },
  {
   "metadata": {
    "ExecuteTime": {
     "end_time": "2024-07-16T01:04:38.880458Z",
     "start_time": "2024-07-16T01:04:38.865323Z"
    }
   },
   "cell_type": "code",
   "source": "print(type(most_common_words))",
   "id": "797cce24bbd9027d",
   "outputs": [
    {
     "name": "stdout",
     "output_type": "stream",
     "text": [
      "<class 'list'>\n"
     ]
    }
   ],
   "execution_count": 3
  },
  {
   "metadata": {
    "ExecuteTime": {
     "end_time": "2024-07-16T01:07:14.210909Z",
     "start_time": "2024-07-16T01:07:14.197647Z"
    }
   },
   "cell_type": "code",
   "source": [
    "import csv\n",
    "\n",
    "filename = 'good_review.csv'\n",
    "\n",
    "with open(filename, 'w', newline='') as csvfile:\n",
    "    writer = csv.writer(csvfile)\n",
    "    writer.writerows(most_common_words)"
   ],
   "id": "8fc500d6a6eb4697",
   "outputs": [],
   "execution_count": 5
  },
  {
   "metadata": {},
   "cell_type": "code",
   "outputs": [],
   "execution_count": null,
   "source": "",
   "id": "e57c7c187c2c7e5d"
  }
 ],
 "metadata": {
  "kernelspec": {
   "display_name": "Python 3",
   "language": "python",
   "name": "python3"
  },
  "language_info": {
   "codemirror_mode": {
    "name": "ipython",
    "version": 2
   },
   "file_extension": ".py",
   "mimetype": "text/x-python",
   "name": "python",
   "nbconvert_exporter": "python",
   "pygments_lexer": "ipython2",
   "version": "2.7.6"
  }
 },
 "nbformat": 4,
 "nbformat_minor": 5
}
