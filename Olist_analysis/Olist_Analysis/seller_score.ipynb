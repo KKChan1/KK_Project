{
 "cells": [
  {
   "cell_type": "code",
   "id": "initial_id",
   "metadata": {
    "collapsed": true,
    "ExecuteTime": {
     "end_time": "2024-07-12T01:32:27.074669Z",
     "start_time": "2024-07-12T01:32:24.017220Z"
    }
   },
   "source": [
    "import pandas as pd\n",
    "\n",
    "# 加載sellers_dataset.csv文件\n",
    "sellers_df = pd.read_csv(\"C:/Users/KK Chan/Desktop/作業/fianl_project/data/olist_sellers_dataset.csv\")\n",
    "\n",
    "# 加載order_reviews_dataset.csv文件\n",
    "order_reviews_df = pd.read_csv(\"C:/Users/KK Chan/Desktop/作業/fianl_project/data/olist_order_reviews_dataset.csv\")"
   ],
   "outputs": [],
   "execution_count": 2
  },
  {
   "metadata": {
    "ExecuteTime": {
     "end_time": "2024-07-08T02:42:23.524075Z",
     "start_time": "2024-07-08T02:42:23.367187Z"
    }
   },
   "cell_type": "code",
   "source": [
    "# 加載order_items_dataset.csv文件\n",
    "order_items_df = pd.read_csv(\"C:/Users/KK Chan/Desktop/作業/fianl_project/data/olist_order_items_dataset.csv\")\n"
   ],
   "id": "f5674c8225ca0c9b",
   "outputs": [],
   "execution_count": 5
  },
  {
   "metadata": {
    "ExecuteTime": {
     "end_time": "2024-07-08T02:58:33.629419Z",
     "start_time": "2024-07-08T02:58:33.538397Z"
    }
   },
   "cell_type": "code",
   "source": [
    "# 加載order_payments_dataset.csv文件\n",
    "order_payments_df = pd.read_csv(\"C:/Users/KK Chan/Desktop/作業/fianl_project/data/olist_order_payments_dataset.csv\")"
   ],
   "id": "ac78deedadb08a4e",
   "outputs": [],
   "execution_count": 32
  },
  {
   "metadata": {
    "ExecuteTime": {
     "end_time": "2024-07-08T02:44:39.772147Z",
     "start_time": "2024-07-08T02:44:39.724188Z"
    }
   },
   "cell_type": "code",
   "source": [
    "tab1 = pd.merge(sellers_df,order_items_df,on=['seller_id','seller_id'])\n",
    "tab1.head()"
   ],
   "id": "95bdf9267671f0fa",
   "outputs": [
    {
     "data": {
      "text/plain": [
       "                          seller_id  seller_zip_code_prefix seller_city  \\\n",
       "0  3442f8959a84dea7ee197c632cb2df15                   13023    campinas   \n",
       "1  3442f8959a84dea7ee197c632cb2df15                   13023    campinas   \n",
       "2  3442f8959a84dea7ee197c632cb2df15                   13023    campinas   \n",
       "3  d1b65fc7debc3361ea86b5f14c68d2e2                   13844  mogi guacu   \n",
       "4  d1b65fc7debc3361ea86b5f14c68d2e2                   13844  mogi guacu   \n",
       "\n",
       "  seller_state                          order_id  order_item_id  \\\n",
       "0           SP  4a90af3e85dd563884e2afeab1091394              1   \n",
       "1           SP  6d953888a914b67350d5bc4d48f2acab              1   \n",
       "2           SP  bc8a5de6abf5b14f98a6135a7fb46731              2   \n",
       "3           SP  035201c3c82a97f8a25dd6bd5244b2d5              1   \n",
       "4           SP  0504447548229e075dea8441b37b1e2a              1   \n",
       "\n",
       "                         product_id  shipping_limit_date   price  \\\n",
       "0  ffb64e34a37740dafb6c88f1abd1fa61  2017-08-25 20:50:19  106.20   \n",
       "1  f4621f8ad6f54a2e3c408884068be46d  2017-05-11 16:25:11  101.70   \n",
       "2  325a06bcce0da45b7f4ecf2797dd40e4  2017-09-05 12:50:19   10.80   \n",
       "3  1c36a5285f7f3b1ed2637d7c528ce5ff  2017-11-22 04:30:29   89.99   \n",
       "4  8852eb03b04ec3268a66e9b696e25f6f  2017-10-06 02:14:42  199.90   \n",
       "\n",
       "   freight_value  \n",
       "0           9.56  \n",
       "1          15.92  \n",
       "2           2.42  \n",
       "3          45.09  \n",
       "4          21.89  "
      ],
      "text/html": [
       "<div>\n",
       "<style scoped>\n",
       "    .dataframe tbody tr th:only-of-type {\n",
       "        vertical-align: middle;\n",
       "    }\n",
       "\n",
       "    .dataframe tbody tr th {\n",
       "        vertical-align: top;\n",
       "    }\n",
       "\n",
       "    .dataframe thead th {\n",
       "        text-align: right;\n",
       "    }\n",
       "</style>\n",
       "<table border=\"1\" class=\"dataframe\">\n",
       "  <thead>\n",
       "    <tr style=\"text-align: right;\">\n",
       "      <th></th>\n",
       "      <th>seller_id</th>\n",
       "      <th>seller_zip_code_prefix</th>\n",
       "      <th>seller_city</th>\n",
       "      <th>seller_state</th>\n",
       "      <th>order_id</th>\n",
       "      <th>order_item_id</th>\n",
       "      <th>product_id</th>\n",
       "      <th>shipping_limit_date</th>\n",
       "      <th>price</th>\n",
       "      <th>freight_value</th>\n",
       "    </tr>\n",
       "  </thead>\n",
       "  <tbody>\n",
       "    <tr>\n",
       "      <th>0</th>\n",
       "      <td>3442f8959a84dea7ee197c632cb2df15</td>\n",
       "      <td>13023</td>\n",
       "      <td>campinas</td>\n",
       "      <td>SP</td>\n",
       "      <td>4a90af3e85dd563884e2afeab1091394</td>\n",
       "      <td>1</td>\n",
       "      <td>ffb64e34a37740dafb6c88f1abd1fa61</td>\n",
       "      <td>2017-08-25 20:50:19</td>\n",
       "      <td>106.20</td>\n",
       "      <td>9.56</td>\n",
       "    </tr>\n",
       "    <tr>\n",
       "      <th>1</th>\n",
       "      <td>3442f8959a84dea7ee197c632cb2df15</td>\n",
       "      <td>13023</td>\n",
       "      <td>campinas</td>\n",
       "      <td>SP</td>\n",
       "      <td>6d953888a914b67350d5bc4d48f2acab</td>\n",
       "      <td>1</td>\n",
       "      <td>f4621f8ad6f54a2e3c408884068be46d</td>\n",
       "      <td>2017-05-11 16:25:11</td>\n",
       "      <td>101.70</td>\n",
       "      <td>15.92</td>\n",
       "    </tr>\n",
       "    <tr>\n",
       "      <th>2</th>\n",
       "      <td>3442f8959a84dea7ee197c632cb2df15</td>\n",
       "      <td>13023</td>\n",
       "      <td>campinas</td>\n",
       "      <td>SP</td>\n",
       "      <td>bc8a5de6abf5b14f98a6135a7fb46731</td>\n",
       "      <td>2</td>\n",
       "      <td>325a06bcce0da45b7f4ecf2797dd40e4</td>\n",
       "      <td>2017-09-05 12:50:19</td>\n",
       "      <td>10.80</td>\n",
       "      <td>2.42</td>\n",
       "    </tr>\n",
       "    <tr>\n",
       "      <th>3</th>\n",
       "      <td>d1b65fc7debc3361ea86b5f14c68d2e2</td>\n",
       "      <td>13844</td>\n",
       "      <td>mogi guacu</td>\n",
       "      <td>SP</td>\n",
       "      <td>035201c3c82a97f8a25dd6bd5244b2d5</td>\n",
       "      <td>1</td>\n",
       "      <td>1c36a5285f7f3b1ed2637d7c528ce5ff</td>\n",
       "      <td>2017-11-22 04:30:29</td>\n",
       "      <td>89.99</td>\n",
       "      <td>45.09</td>\n",
       "    </tr>\n",
       "    <tr>\n",
       "      <th>4</th>\n",
       "      <td>d1b65fc7debc3361ea86b5f14c68d2e2</td>\n",
       "      <td>13844</td>\n",
       "      <td>mogi guacu</td>\n",
       "      <td>SP</td>\n",
       "      <td>0504447548229e075dea8441b37b1e2a</td>\n",
       "      <td>1</td>\n",
       "      <td>8852eb03b04ec3268a66e9b696e25f6f</td>\n",
       "      <td>2017-10-06 02:14:42</td>\n",
       "      <td>199.90</td>\n",
       "      <td>21.89</td>\n",
       "    </tr>\n",
       "  </tbody>\n",
       "</table>\n",
       "</div>"
      ]
     },
     "execution_count": 9,
     "metadata": {},
     "output_type": "execute_result"
    }
   ],
   "execution_count": 9
  },
  {
   "metadata": {
    "ExecuteTime": {
     "end_time": "2024-07-08T02:48:43.533722Z",
     "start_time": "2024-07-08T02:48:43.326461Z"
    }
   },
   "cell_type": "code",
   "source": [
    "tab2 = pd.merge(tab1,order_reviews_df,on=['order_id','order_id'])\n",
    "tab2.head()"
   ],
   "id": "9443b600a2f46eb2",
   "outputs": [
    {
     "data": {
      "text/plain": [
       "                          seller_id  seller_zip_code_prefix seller_city  \\\n",
       "0  3442f8959a84dea7ee197c632cb2df15                   13023    campinas   \n",
       "1  3442f8959a84dea7ee197c632cb2df15                   13023    campinas   \n",
       "2  3442f8959a84dea7ee197c632cb2df15                   13023    campinas   \n",
       "3  d1b65fc7debc3361ea86b5f14c68d2e2                   13844  mogi guacu   \n",
       "4  d1b65fc7debc3361ea86b5f14c68d2e2                   13844  mogi guacu   \n",
       "\n",
       "  seller_state                          order_id  order_item_id  \\\n",
       "0           SP  4a90af3e85dd563884e2afeab1091394              1   \n",
       "1           SP  6d953888a914b67350d5bc4d48f2acab              1   \n",
       "2           SP  bc8a5de6abf5b14f98a6135a7fb46731              2   \n",
       "3           SP  035201c3c82a97f8a25dd6bd5244b2d5              1   \n",
       "4           SP  0504447548229e075dea8441b37b1e2a              1   \n",
       "\n",
       "                         product_id  shipping_limit_date   price  \\\n",
       "0  ffb64e34a37740dafb6c88f1abd1fa61  2017-08-25 20:50:19  106.20   \n",
       "1  f4621f8ad6f54a2e3c408884068be46d  2017-05-11 16:25:11  101.70   \n",
       "2  325a06bcce0da45b7f4ecf2797dd40e4  2017-09-05 12:50:19   10.80   \n",
       "3  1c36a5285f7f3b1ed2637d7c528ce5ff  2017-11-22 04:30:29   89.99   \n",
       "4  8852eb03b04ec3268a66e9b696e25f6f  2017-10-06 02:14:42  199.90   \n",
       "\n",
       "   freight_value                         review_id  review_score  \\\n",
       "0           9.56  88980a9c50a6909fa1fe35ddab8fa1e2             5   \n",
       "1          15.92  b9b791819c5c1a5c6a4ffc7881f97fb5             1   \n",
       "2           2.42  cc77a6d63753c1d7b88b7c64630b97b9             3   \n",
       "3          45.09  27a894ac7d70600fd49d2ac3b910e65d             5   \n",
       "4          21.89  265e6d99461ed7db35a7f48a00df7e6c             5   \n",
       "\n",
       "  review_comment_title                             review_comment_message  \\\n",
       "0                  NaN                                                NaN   \n",
       "1                  NaN  O pedido foi realizado no dia 5/5/2017, e até ...   \n",
       "2                  NaN               coprei tres ítens faltou entregar um   \n",
       "3                  NaN  A cor é muito diferente da foto.\\r\\nÉ uma ótim...   \n",
       "4                  NaN                                excelente aquisição   \n",
       "\n",
       "  review_creation_date review_answer_timestamp  \n",
       "0  2017-08-31 00:00:00     2017-08-31 21:37:39  \n",
       "1  2017-06-01 00:00:00     2017-06-01 12:57:10  \n",
       "2  2017-09-02 00:00:00     2017-09-03 17:31:14  \n",
       "3  2017-11-22 00:00:00     2017-11-23 02:14:56  \n",
       "4  2017-10-07 00:00:00     2017-10-09 10:41:34  "
      ],
      "text/html": [
       "<div>\n",
       "<style scoped>\n",
       "    .dataframe tbody tr th:only-of-type {\n",
       "        vertical-align: middle;\n",
       "    }\n",
       "\n",
       "    .dataframe tbody tr th {\n",
       "        vertical-align: top;\n",
       "    }\n",
       "\n",
       "    .dataframe thead th {\n",
       "        text-align: right;\n",
       "    }\n",
       "</style>\n",
       "<table border=\"1\" class=\"dataframe\">\n",
       "  <thead>\n",
       "    <tr style=\"text-align: right;\">\n",
       "      <th></th>\n",
       "      <th>seller_id</th>\n",
       "      <th>seller_zip_code_prefix</th>\n",
       "      <th>seller_city</th>\n",
       "      <th>seller_state</th>\n",
       "      <th>order_id</th>\n",
       "      <th>order_item_id</th>\n",
       "      <th>product_id</th>\n",
       "      <th>shipping_limit_date</th>\n",
       "      <th>price</th>\n",
       "      <th>freight_value</th>\n",
       "      <th>review_id</th>\n",
       "      <th>review_score</th>\n",
       "      <th>review_comment_title</th>\n",
       "      <th>review_comment_message</th>\n",
       "      <th>review_creation_date</th>\n",
       "      <th>review_answer_timestamp</th>\n",
       "    </tr>\n",
       "  </thead>\n",
       "  <tbody>\n",
       "    <tr>\n",
       "      <th>0</th>\n",
       "      <td>3442f8959a84dea7ee197c632cb2df15</td>\n",
       "      <td>13023</td>\n",
       "      <td>campinas</td>\n",
       "      <td>SP</td>\n",
       "      <td>4a90af3e85dd563884e2afeab1091394</td>\n",
       "      <td>1</td>\n",
       "      <td>ffb64e34a37740dafb6c88f1abd1fa61</td>\n",
       "      <td>2017-08-25 20:50:19</td>\n",
       "      <td>106.20</td>\n",
       "      <td>9.56</td>\n",
       "      <td>88980a9c50a6909fa1fe35ddab8fa1e2</td>\n",
       "      <td>5</td>\n",
       "      <td>NaN</td>\n",
       "      <td>NaN</td>\n",
       "      <td>2017-08-31 00:00:00</td>\n",
       "      <td>2017-08-31 21:37:39</td>\n",
       "    </tr>\n",
       "    <tr>\n",
       "      <th>1</th>\n",
       "      <td>3442f8959a84dea7ee197c632cb2df15</td>\n",
       "      <td>13023</td>\n",
       "      <td>campinas</td>\n",
       "      <td>SP</td>\n",
       "      <td>6d953888a914b67350d5bc4d48f2acab</td>\n",
       "      <td>1</td>\n",
       "      <td>f4621f8ad6f54a2e3c408884068be46d</td>\n",
       "      <td>2017-05-11 16:25:11</td>\n",
       "      <td>101.70</td>\n",
       "      <td>15.92</td>\n",
       "      <td>b9b791819c5c1a5c6a4ffc7881f97fb5</td>\n",
       "      <td>1</td>\n",
       "      <td>NaN</td>\n",
       "      <td>O pedido foi realizado no dia 5/5/2017, e até ...</td>\n",
       "      <td>2017-06-01 00:00:00</td>\n",
       "      <td>2017-06-01 12:57:10</td>\n",
       "    </tr>\n",
       "    <tr>\n",
       "      <th>2</th>\n",
       "      <td>3442f8959a84dea7ee197c632cb2df15</td>\n",
       "      <td>13023</td>\n",
       "      <td>campinas</td>\n",
       "      <td>SP</td>\n",
       "      <td>bc8a5de6abf5b14f98a6135a7fb46731</td>\n",
       "      <td>2</td>\n",
       "      <td>325a06bcce0da45b7f4ecf2797dd40e4</td>\n",
       "      <td>2017-09-05 12:50:19</td>\n",
       "      <td>10.80</td>\n",
       "      <td>2.42</td>\n",
       "      <td>cc77a6d63753c1d7b88b7c64630b97b9</td>\n",
       "      <td>3</td>\n",
       "      <td>NaN</td>\n",
       "      <td>coprei tres ítens faltou entregar um</td>\n",
       "      <td>2017-09-02 00:00:00</td>\n",
       "      <td>2017-09-03 17:31:14</td>\n",
       "    </tr>\n",
       "    <tr>\n",
       "      <th>3</th>\n",
       "      <td>d1b65fc7debc3361ea86b5f14c68d2e2</td>\n",
       "      <td>13844</td>\n",
       "      <td>mogi guacu</td>\n",
       "      <td>SP</td>\n",
       "      <td>035201c3c82a97f8a25dd6bd5244b2d5</td>\n",
       "      <td>1</td>\n",
       "      <td>1c36a5285f7f3b1ed2637d7c528ce5ff</td>\n",
       "      <td>2017-11-22 04:30:29</td>\n",
       "      <td>89.99</td>\n",
       "      <td>45.09</td>\n",
       "      <td>27a894ac7d70600fd49d2ac3b910e65d</td>\n",
       "      <td>5</td>\n",
       "      <td>NaN</td>\n",
       "      <td>A cor é muito diferente da foto.\\r\\nÉ uma ótim...</td>\n",
       "      <td>2017-11-22 00:00:00</td>\n",
       "      <td>2017-11-23 02:14:56</td>\n",
       "    </tr>\n",
       "    <tr>\n",
       "      <th>4</th>\n",
       "      <td>d1b65fc7debc3361ea86b5f14c68d2e2</td>\n",
       "      <td>13844</td>\n",
       "      <td>mogi guacu</td>\n",
       "      <td>SP</td>\n",
       "      <td>0504447548229e075dea8441b37b1e2a</td>\n",
       "      <td>1</td>\n",
       "      <td>8852eb03b04ec3268a66e9b696e25f6f</td>\n",
       "      <td>2017-10-06 02:14:42</td>\n",
       "      <td>199.90</td>\n",
       "      <td>21.89</td>\n",
       "      <td>265e6d99461ed7db35a7f48a00df7e6c</td>\n",
       "      <td>5</td>\n",
       "      <td>NaN</td>\n",
       "      <td>excelente aquisição</td>\n",
       "      <td>2017-10-07 00:00:00</td>\n",
       "      <td>2017-10-09 10:41:34</td>\n",
       "    </tr>\n",
       "  </tbody>\n",
       "</table>\n",
       "</div>"
      ]
     },
     "execution_count": 21,
     "metadata": {},
     "output_type": "execute_result"
    }
   ],
   "execution_count": 21
  },
  {
   "metadata": {
    "ExecuteTime": {
     "end_time": "2024-07-08T02:59:14.721248Z",
     "start_time": "2024-07-08T02:59:14.532858Z"
    }
   },
   "cell_type": "code",
   "source": [
    "tab3 = pd.merge(tab2,order_payments_df,on=['order_id','order_id'])\n",
    "tab3.head()"
   ],
   "id": "4c6be6742238d344",
   "outputs": [
    {
     "data": {
      "text/plain": [
       "                          seller_id  seller_zip_code_prefix seller_city  \\\n",
       "0  3442f8959a84dea7ee197c632cb2df15                   13023    campinas   \n",
       "1  3442f8959a84dea7ee197c632cb2df15                   13023    campinas   \n",
       "2  3442f8959a84dea7ee197c632cb2df15                   13023    campinas   \n",
       "3  d1b65fc7debc3361ea86b5f14c68d2e2                   13844  mogi guacu   \n",
       "4  d1b65fc7debc3361ea86b5f14c68d2e2                   13844  mogi guacu   \n",
       "\n",
       "  seller_state                          order_id  order_item_id  \\\n",
       "0           SP  4a90af3e85dd563884e2afeab1091394              1   \n",
       "1           SP  6d953888a914b67350d5bc4d48f2acab              1   \n",
       "2           SP  bc8a5de6abf5b14f98a6135a7fb46731              2   \n",
       "3           SP  035201c3c82a97f8a25dd6bd5244b2d5              1   \n",
       "4           SP  0504447548229e075dea8441b37b1e2a              1   \n",
       "\n",
       "                         product_id  shipping_limit_date   price  \\\n",
       "0  ffb64e34a37740dafb6c88f1abd1fa61  2017-08-25 20:50:19  106.20   \n",
       "1  f4621f8ad6f54a2e3c408884068be46d  2017-05-11 16:25:11  101.70   \n",
       "2  325a06bcce0da45b7f4ecf2797dd40e4  2017-09-05 12:50:19   10.80   \n",
       "3  1c36a5285f7f3b1ed2637d7c528ce5ff  2017-11-22 04:30:29   89.99   \n",
       "4  8852eb03b04ec3268a66e9b696e25f6f  2017-10-06 02:14:42  199.90   \n",
       "\n",
       "   freight_value                         review_id  review_score  \\\n",
       "0           9.56  88980a9c50a6909fa1fe35ddab8fa1e2             5   \n",
       "1          15.92  b9b791819c5c1a5c6a4ffc7881f97fb5             1   \n",
       "2           2.42  cc77a6d63753c1d7b88b7c64630b97b9             3   \n",
       "3          45.09  27a894ac7d70600fd49d2ac3b910e65d             5   \n",
       "4          21.89  265e6d99461ed7db35a7f48a00df7e6c             5   \n",
       "\n",
       "  review_comment_title                             review_comment_message  \\\n",
       "0                  NaN                                                NaN   \n",
       "1                  NaN  O pedido foi realizado no dia 5/5/2017, e até ...   \n",
       "2                  NaN               coprei tres ítens faltou entregar um   \n",
       "3                  NaN  A cor é muito diferente da foto.\\r\\nÉ uma ótim...   \n",
       "4                  NaN                                excelente aquisição   \n",
       "\n",
       "  review_creation_date review_answer_timestamp  payment_sequential  \\\n",
       "0  2017-08-31 00:00:00     2017-08-31 21:37:39                   1   \n",
       "1  2017-06-01 00:00:00     2017-06-01 12:57:10                   1   \n",
       "2  2017-09-02 00:00:00     2017-09-03 17:31:14                   1   \n",
       "3  2017-11-22 00:00:00     2017-11-23 02:14:56                   1   \n",
       "4  2017-10-07 00:00:00     2017-10-09 10:41:34                   1   \n",
       "\n",
       "  payment_type  payment_installments  payment_value  \n",
       "0  credit_card                     2         115.76  \n",
       "1  credit_card                     2         117.62  \n",
       "2  credit_card                     4         158.80  \n",
       "3       boleto                     1         135.08  \n",
       "4       boleto                     1         221.79  "
      ],
      "text/html": [
       "<div>\n",
       "<style scoped>\n",
       "    .dataframe tbody tr th:only-of-type {\n",
       "        vertical-align: middle;\n",
       "    }\n",
       "\n",
       "    .dataframe tbody tr th {\n",
       "        vertical-align: top;\n",
       "    }\n",
       "\n",
       "    .dataframe thead th {\n",
       "        text-align: right;\n",
       "    }\n",
       "</style>\n",
       "<table border=\"1\" class=\"dataframe\">\n",
       "  <thead>\n",
       "    <tr style=\"text-align: right;\">\n",
       "      <th></th>\n",
       "      <th>seller_id</th>\n",
       "      <th>seller_zip_code_prefix</th>\n",
       "      <th>seller_city</th>\n",
       "      <th>seller_state</th>\n",
       "      <th>order_id</th>\n",
       "      <th>order_item_id</th>\n",
       "      <th>product_id</th>\n",
       "      <th>shipping_limit_date</th>\n",
       "      <th>price</th>\n",
       "      <th>freight_value</th>\n",
       "      <th>review_id</th>\n",
       "      <th>review_score</th>\n",
       "      <th>review_comment_title</th>\n",
       "      <th>review_comment_message</th>\n",
       "      <th>review_creation_date</th>\n",
       "      <th>review_answer_timestamp</th>\n",
       "      <th>payment_sequential</th>\n",
       "      <th>payment_type</th>\n",
       "      <th>payment_installments</th>\n",
       "      <th>payment_value</th>\n",
       "    </tr>\n",
       "  </thead>\n",
       "  <tbody>\n",
       "    <tr>\n",
       "      <th>0</th>\n",
       "      <td>3442f8959a84dea7ee197c632cb2df15</td>\n",
       "      <td>13023</td>\n",
       "      <td>campinas</td>\n",
       "      <td>SP</td>\n",
       "      <td>4a90af3e85dd563884e2afeab1091394</td>\n",
       "      <td>1</td>\n",
       "      <td>ffb64e34a37740dafb6c88f1abd1fa61</td>\n",
       "      <td>2017-08-25 20:50:19</td>\n",
       "      <td>106.20</td>\n",
       "      <td>9.56</td>\n",
       "      <td>88980a9c50a6909fa1fe35ddab8fa1e2</td>\n",
       "      <td>5</td>\n",
       "      <td>NaN</td>\n",
       "      <td>NaN</td>\n",
       "      <td>2017-08-31 00:00:00</td>\n",
       "      <td>2017-08-31 21:37:39</td>\n",
       "      <td>1</td>\n",
       "      <td>credit_card</td>\n",
       "      <td>2</td>\n",
       "      <td>115.76</td>\n",
       "    </tr>\n",
       "    <tr>\n",
       "      <th>1</th>\n",
       "      <td>3442f8959a84dea7ee197c632cb2df15</td>\n",
       "      <td>13023</td>\n",
       "      <td>campinas</td>\n",
       "      <td>SP</td>\n",
       "      <td>6d953888a914b67350d5bc4d48f2acab</td>\n",
       "      <td>1</td>\n",
       "      <td>f4621f8ad6f54a2e3c408884068be46d</td>\n",
       "      <td>2017-05-11 16:25:11</td>\n",
       "      <td>101.70</td>\n",
       "      <td>15.92</td>\n",
       "      <td>b9b791819c5c1a5c6a4ffc7881f97fb5</td>\n",
       "      <td>1</td>\n",
       "      <td>NaN</td>\n",
       "      <td>O pedido foi realizado no dia 5/5/2017, e até ...</td>\n",
       "      <td>2017-06-01 00:00:00</td>\n",
       "      <td>2017-06-01 12:57:10</td>\n",
       "      <td>1</td>\n",
       "      <td>credit_card</td>\n",
       "      <td>2</td>\n",
       "      <td>117.62</td>\n",
       "    </tr>\n",
       "    <tr>\n",
       "      <th>2</th>\n",
       "      <td>3442f8959a84dea7ee197c632cb2df15</td>\n",
       "      <td>13023</td>\n",
       "      <td>campinas</td>\n",
       "      <td>SP</td>\n",
       "      <td>bc8a5de6abf5b14f98a6135a7fb46731</td>\n",
       "      <td>2</td>\n",
       "      <td>325a06bcce0da45b7f4ecf2797dd40e4</td>\n",
       "      <td>2017-09-05 12:50:19</td>\n",
       "      <td>10.80</td>\n",
       "      <td>2.42</td>\n",
       "      <td>cc77a6d63753c1d7b88b7c64630b97b9</td>\n",
       "      <td>3</td>\n",
       "      <td>NaN</td>\n",
       "      <td>coprei tres ítens faltou entregar um</td>\n",
       "      <td>2017-09-02 00:00:00</td>\n",
       "      <td>2017-09-03 17:31:14</td>\n",
       "      <td>1</td>\n",
       "      <td>credit_card</td>\n",
       "      <td>4</td>\n",
       "      <td>158.80</td>\n",
       "    </tr>\n",
       "    <tr>\n",
       "      <th>3</th>\n",
       "      <td>d1b65fc7debc3361ea86b5f14c68d2e2</td>\n",
       "      <td>13844</td>\n",
       "      <td>mogi guacu</td>\n",
       "      <td>SP</td>\n",
       "      <td>035201c3c82a97f8a25dd6bd5244b2d5</td>\n",
       "      <td>1</td>\n",
       "      <td>1c36a5285f7f3b1ed2637d7c528ce5ff</td>\n",
       "      <td>2017-11-22 04:30:29</td>\n",
       "      <td>89.99</td>\n",
       "      <td>45.09</td>\n",
       "      <td>27a894ac7d70600fd49d2ac3b910e65d</td>\n",
       "      <td>5</td>\n",
       "      <td>NaN</td>\n",
       "      <td>A cor é muito diferente da foto.\\r\\nÉ uma ótim...</td>\n",
       "      <td>2017-11-22 00:00:00</td>\n",
       "      <td>2017-11-23 02:14:56</td>\n",
       "      <td>1</td>\n",
       "      <td>boleto</td>\n",
       "      <td>1</td>\n",
       "      <td>135.08</td>\n",
       "    </tr>\n",
       "    <tr>\n",
       "      <th>4</th>\n",
       "      <td>d1b65fc7debc3361ea86b5f14c68d2e2</td>\n",
       "      <td>13844</td>\n",
       "      <td>mogi guacu</td>\n",
       "      <td>SP</td>\n",
       "      <td>0504447548229e075dea8441b37b1e2a</td>\n",
       "      <td>1</td>\n",
       "      <td>8852eb03b04ec3268a66e9b696e25f6f</td>\n",
       "      <td>2017-10-06 02:14:42</td>\n",
       "      <td>199.90</td>\n",
       "      <td>21.89</td>\n",
       "      <td>265e6d99461ed7db35a7f48a00df7e6c</td>\n",
       "      <td>5</td>\n",
       "      <td>NaN</td>\n",
       "      <td>excelente aquisição</td>\n",
       "      <td>2017-10-07 00:00:00</td>\n",
       "      <td>2017-10-09 10:41:34</td>\n",
       "      <td>1</td>\n",
       "      <td>boleto</td>\n",
       "      <td>1</td>\n",
       "      <td>221.79</td>\n",
       "    </tr>\n",
       "  </tbody>\n",
       "</table>\n",
       "</div>"
      ]
     },
     "execution_count": 33,
     "metadata": {},
     "output_type": "execute_result"
    }
   ],
   "execution_count": 33
  },
  {
   "metadata": {
    "ExecuteTime": {
     "end_time": "2024-07-08T03:01:36.701161Z",
     "start_time": "2024-07-08T03:01:36.679785Z"
    }
   },
   "cell_type": "code",
   "source": [
    "df_total2 = tab3.groupby('seller_id')['payment_value'].sum().reset_index()\n",
    "df_total2 = df_total2.rename(columns={'payment_value':'total'})\n",
    "df_total2"
   ],
   "id": "19148e9d8252c1c4",
   "outputs": [
    {
     "data": {
      "text/plain": [
       "                             seller_id     total\n",
       "0     0015a82c2db000af6aaaf3ae2ecb0532   2748.06\n",
       "1     001cca7ae9ae17fb1caed9dfb1094831  48349.22\n",
       "2     001e6ad469a905060d959994f1b41e4f    267.94\n",
       "3     002100f778ceb8431b7a1020ff7ab48f   2478.33\n",
       "4     003554e2dce176b5555353e4f3555ac8    139.38\n",
       "...                                ...       ...\n",
       "3090  ffcfefa19b08742c5d315f2791395ee5     79.52\n",
       "3091  ffdd9f82b9a447f6f8d4b91554cc7dd3   3607.52\n",
       "3092  ffeee66ac5d5a62fe688b9d26f83f534   2259.55\n",
       "3093  fffd5413c0700ac820c7069d66d98c89  12834.27\n",
       "3094  ffff564a4f9085cd26170f4732393726   1770.86\n",
       "\n",
       "[3095 rows x 2 columns]"
      ],
      "text/html": [
       "<div>\n",
       "<style scoped>\n",
       "    .dataframe tbody tr th:only-of-type {\n",
       "        vertical-align: middle;\n",
       "    }\n",
       "\n",
       "    .dataframe tbody tr th {\n",
       "        vertical-align: top;\n",
       "    }\n",
       "\n",
       "    .dataframe thead th {\n",
       "        text-align: right;\n",
       "    }\n",
       "</style>\n",
       "<table border=\"1\" class=\"dataframe\">\n",
       "  <thead>\n",
       "    <tr style=\"text-align: right;\">\n",
       "      <th></th>\n",
       "      <th>seller_id</th>\n",
       "      <th>total</th>\n",
       "    </tr>\n",
       "  </thead>\n",
       "  <tbody>\n",
       "    <tr>\n",
       "      <th>0</th>\n",
       "      <td>0015a82c2db000af6aaaf3ae2ecb0532</td>\n",
       "      <td>2748.06</td>\n",
       "    </tr>\n",
       "    <tr>\n",
       "      <th>1</th>\n",
       "      <td>001cca7ae9ae17fb1caed9dfb1094831</td>\n",
       "      <td>48349.22</td>\n",
       "    </tr>\n",
       "    <tr>\n",
       "      <th>2</th>\n",
       "      <td>001e6ad469a905060d959994f1b41e4f</td>\n",
       "      <td>267.94</td>\n",
       "    </tr>\n",
       "    <tr>\n",
       "      <th>3</th>\n",
       "      <td>002100f778ceb8431b7a1020ff7ab48f</td>\n",
       "      <td>2478.33</td>\n",
       "    </tr>\n",
       "    <tr>\n",
       "      <th>4</th>\n",
       "      <td>003554e2dce176b5555353e4f3555ac8</td>\n",
       "      <td>139.38</td>\n",
       "    </tr>\n",
       "    <tr>\n",
       "      <th>...</th>\n",
       "      <td>...</td>\n",
       "      <td>...</td>\n",
       "    </tr>\n",
       "    <tr>\n",
       "      <th>3090</th>\n",
       "      <td>ffcfefa19b08742c5d315f2791395ee5</td>\n",
       "      <td>79.52</td>\n",
       "    </tr>\n",
       "    <tr>\n",
       "      <th>3091</th>\n",
       "      <td>ffdd9f82b9a447f6f8d4b91554cc7dd3</td>\n",
       "      <td>3607.52</td>\n",
       "    </tr>\n",
       "    <tr>\n",
       "      <th>3092</th>\n",
       "      <td>ffeee66ac5d5a62fe688b9d26f83f534</td>\n",
       "      <td>2259.55</td>\n",
       "    </tr>\n",
       "    <tr>\n",
       "      <th>3093</th>\n",
       "      <td>fffd5413c0700ac820c7069d66d98c89</td>\n",
       "      <td>12834.27</td>\n",
       "    </tr>\n",
       "    <tr>\n",
       "      <th>3094</th>\n",
       "      <td>ffff564a4f9085cd26170f4732393726</td>\n",
       "      <td>1770.86</td>\n",
       "    </tr>\n",
       "  </tbody>\n",
       "</table>\n",
       "<p>3095 rows × 2 columns</p>\n",
       "</div>"
      ]
     },
     "execution_count": 37,
     "metadata": {},
     "output_type": "execute_result"
    }
   ],
   "execution_count": 37
  },
  {
   "metadata": {
    "ExecuteTime": {
     "end_time": "2024-07-08T03:01:18.583393Z",
     "start_time": "2024-07-08T03:01:18.575558Z"
    }
   },
   "cell_type": "code",
   "source": "print(df_total2.index.duplicated().any())",
   "id": "16f1fc59694ace1d",
   "outputs": [
    {
     "name": "stdout",
     "output_type": "stream",
     "text": [
      "False\n"
     ]
    }
   ],
   "execution_count": 36
  },
  {
   "metadata": {
    "ExecuteTime": {
     "end_time": "2024-07-08T03:06:42.697326Z",
     "start_time": "2024-07-08T03:06:42.653396Z"
    }
   },
   "cell_type": "code",
   "source": [
    "df3 = tab3.groupby('seller_id')['order_id'].count()\n",
    "df3"
   ],
   "id": "a513c07107e7f0bd",
   "outputs": [
    {
     "data": {
      "text/plain": [
       "seller_id\n",
       "0015a82c2db000af6aaaf3ae2ecb0532      3\n",
       "001cca7ae9ae17fb1caed9dfb1094831    241\n",
       "001e6ad469a905060d959994f1b41e4f      1\n",
       "002100f778ceb8431b7a1020ff7ab48f     59\n",
       "003554e2dce176b5555353e4f3555ac8      1\n",
       "                                   ... \n",
       "ffcfefa19b08742c5d315f2791395ee5      1\n",
       "ffdd9f82b9a447f6f8d4b91554cc7dd3     21\n",
       "ffeee66ac5d5a62fe688b9d26f83f534     14\n",
       "fffd5413c0700ac820c7069d66d98c89     62\n",
       "ffff564a4f9085cd26170f4732393726     20\n",
       "Name: order_id, Length: 3095, dtype: int64"
      ]
     },
     "execution_count": 41,
     "metadata": {},
     "output_type": "execute_result"
    }
   ],
   "execution_count": 41
  },
  {
   "metadata": {
    "ExecuteTime": {
     "end_time": "2024-07-08T03:05:54.881373Z",
     "start_time": "2024-07-08T03:05:54.872372Z"
    }
   },
   "cell_type": "code",
   "source": "print(df3.index.duplicated().any())\n",
   "id": "a839cd4d64fe883d",
   "outputs": [
    {
     "name": "stdout",
     "output_type": "stream",
     "text": [
      "False\n"
     ]
    }
   ],
   "execution_count": 40
  },
  {
   "metadata": {
    "ExecuteTime": {
     "end_time": "2024-07-08T03:08:00.128372Z",
     "start_time": "2024-07-08T03:08:00.114493Z"
    }
   },
   "cell_type": "code",
   "source": [
    "df3 = df3.sort_values(ascending=False)\n",
    "df3"
   ],
   "id": "9d1ddd55101ebcea",
   "outputs": [
    {
     "data": {
      "text/plain": [
       "seller_id\n",
       "4a3ca9315b744ce9f8e9374361493884    2155\n",
       "6560211a19b47992c3666cc44a7e94c0    2130\n",
       "1f50f920176fa81dab994f9023523100    2017\n",
       "cc419e0650a3c5ba77189a1882b7556a    1893\n",
       "da8622b14eb17ae2831f4ac5b9dab84a    1662\n",
       "                                    ... \n",
       "d4828feed4cda2cd9d6b37899a95a71e       1\n",
       "d4d99b60c4c94cd35acd502cec65dc8d       1\n",
       "5f57db27027655e6c6a391601daa0258       1\n",
       "d4f91e8be86b38da2ee35bc489645a9d       1\n",
       "7d81e74a4755b552267cd5e081563028       1\n",
       "Name: order_id, Length: 3095, dtype: int64"
      ]
     },
     "execution_count": 43,
     "metadata": {},
     "output_type": "execute_result"
    }
   ],
   "execution_count": 43
  },
  {
   "metadata": {
    "ExecuteTime": {
     "end_time": "2024-07-08T02:50:24.510912Z",
     "start_time": "2024-07-08T02:50:24.493143Z"
    }
   },
   "cell_type": "code",
   "source": [
    "df_total = tab2.groupby('seller_id')[['review_score']].mean()\n",
    "df_total"
   ],
   "id": "ad8074bed6dab6bd",
   "outputs": [
    {
     "data": {
      "text/plain": [
       "                                  review_score\n",
       "seller_id                                     \n",
       "0015a82c2db000af6aaaf3ae2ecb0532      3.666667\n",
       "001cca7ae9ae17fb1caed9dfb1094831      3.874477\n",
       "001e6ad469a905060d959994f1b41e4f      1.000000\n",
       "002100f778ceb8431b7a1020ff7ab48f      3.982143\n",
       "003554e2dce176b5555353e4f3555ac8      5.000000\n",
       "...                                        ...\n",
       "ffcfefa19b08742c5d315f2791395ee5      1.000000\n",
       "ffdd9f82b9a447f6f8d4b91554cc7dd3      4.250000\n",
       "ffeee66ac5d5a62fe688b9d26f83f534      4.214286\n",
       "fffd5413c0700ac820c7069d66d98c89      3.885246\n",
       "ffff564a4f9085cd26170f4732393726      2.100000\n",
       "\n",
       "[3095 rows x 1 columns]"
      ],
      "text/html": [
       "<div>\n",
       "<style scoped>\n",
       "    .dataframe tbody tr th:only-of-type {\n",
       "        vertical-align: middle;\n",
       "    }\n",
       "\n",
       "    .dataframe tbody tr th {\n",
       "        vertical-align: top;\n",
       "    }\n",
       "\n",
       "    .dataframe thead th {\n",
       "        text-align: right;\n",
       "    }\n",
       "</style>\n",
       "<table border=\"1\" class=\"dataframe\">\n",
       "  <thead>\n",
       "    <tr style=\"text-align: right;\">\n",
       "      <th></th>\n",
       "      <th>review_score</th>\n",
       "    </tr>\n",
       "    <tr>\n",
       "      <th>seller_id</th>\n",
       "      <th></th>\n",
       "    </tr>\n",
       "  </thead>\n",
       "  <tbody>\n",
       "    <tr>\n",
       "      <th>0015a82c2db000af6aaaf3ae2ecb0532</th>\n",
       "      <td>3.666667</td>\n",
       "    </tr>\n",
       "    <tr>\n",
       "      <th>001cca7ae9ae17fb1caed9dfb1094831</th>\n",
       "      <td>3.874477</td>\n",
       "    </tr>\n",
       "    <tr>\n",
       "      <th>001e6ad469a905060d959994f1b41e4f</th>\n",
       "      <td>1.000000</td>\n",
       "    </tr>\n",
       "    <tr>\n",
       "      <th>002100f778ceb8431b7a1020ff7ab48f</th>\n",
       "      <td>3.982143</td>\n",
       "    </tr>\n",
       "    <tr>\n",
       "      <th>003554e2dce176b5555353e4f3555ac8</th>\n",
       "      <td>5.000000</td>\n",
       "    </tr>\n",
       "    <tr>\n",
       "      <th>...</th>\n",
       "      <td>...</td>\n",
       "    </tr>\n",
       "    <tr>\n",
       "      <th>ffcfefa19b08742c5d315f2791395ee5</th>\n",
       "      <td>1.000000</td>\n",
       "    </tr>\n",
       "    <tr>\n",
       "      <th>ffdd9f82b9a447f6f8d4b91554cc7dd3</th>\n",
       "      <td>4.250000</td>\n",
       "    </tr>\n",
       "    <tr>\n",
       "      <th>ffeee66ac5d5a62fe688b9d26f83f534</th>\n",
       "      <td>4.214286</td>\n",
       "    </tr>\n",
       "    <tr>\n",
       "      <th>fffd5413c0700ac820c7069d66d98c89</th>\n",
       "      <td>3.885246</td>\n",
       "    </tr>\n",
       "    <tr>\n",
       "      <th>ffff564a4f9085cd26170f4732393726</th>\n",
       "      <td>2.100000</td>\n",
       "    </tr>\n",
       "  </tbody>\n",
       "</table>\n",
       "<p>3095 rows × 1 columns</p>\n",
       "</div>"
      ]
     },
     "execution_count": 24,
     "metadata": {},
     "output_type": "execute_result"
    }
   ],
   "execution_count": 24
  },
  {
   "metadata": {
    "ExecuteTime": {
     "end_time": "2024-07-08T02:52:43.250834Z",
     "start_time": "2024-07-08T02:52:43.237159Z"
    }
   },
   "cell_type": "code",
   "source": "print(df_total.index.duplicated().any())",
   "id": "af6ea66aaa1719b9",
   "outputs": [
    {
     "name": "stdout",
     "output_type": "stream",
     "text": [
      "False\n"
     ]
    }
   ],
   "execution_count": 28
  },
  {
   "metadata": {
    "ExecuteTime": {
     "end_time": "2024-07-08T02:54:17.941400Z",
     "start_time": "2024-07-08T02:54:17.925834Z"
    }
   },
   "cell_type": "code",
   "source": [
    "df_total = df_total.sort_values(by='review_score', ascending=False)\n",
    "df_total"
   ],
   "id": "41d29b3744c0bd59",
   "outputs": [
    {
     "data": {
      "text/plain": [
       "                                  review_score\n",
       "seller_id                                     \n",
       "c18309219e789960add0b2255ca4b091           5.0\n",
       "c7246702dc991a06d788120dc7544391           5.0\n",
       "eaaa46e98c9e61f6764dd1d7a2ab8b3e           5.0\n",
       "466222e777149751370e7e98fb623b0c           5.0\n",
       "ea846a0e7ad98a741783e886d89dfa44           5.0\n",
       "...                                        ...\n",
       "dc120d932ddf9d4dfb6fd68beefda622           1.0\n",
       "749e7cdabbaf72f16677859e27874ba5           1.0\n",
       "dadc51ef321949ec9a3ab25cd902e23d           1.0\n",
       "da2782c804606d2a5d8e1760dbb3e7ec           1.0\n",
       "61b893c57e33626afb104d4112b1be76           1.0\n",
       "\n",
       "[3095 rows x 1 columns]"
      ],
      "text/html": [
       "<div>\n",
       "<style scoped>\n",
       "    .dataframe tbody tr th:only-of-type {\n",
       "        vertical-align: middle;\n",
       "    }\n",
       "\n",
       "    .dataframe tbody tr th {\n",
       "        vertical-align: top;\n",
       "    }\n",
       "\n",
       "    .dataframe thead th {\n",
       "        text-align: right;\n",
       "    }\n",
       "</style>\n",
       "<table border=\"1\" class=\"dataframe\">\n",
       "  <thead>\n",
       "    <tr style=\"text-align: right;\">\n",
       "      <th></th>\n",
       "      <th>review_score</th>\n",
       "    </tr>\n",
       "    <tr>\n",
       "      <th>seller_id</th>\n",
       "      <th></th>\n",
       "    </tr>\n",
       "  </thead>\n",
       "  <tbody>\n",
       "    <tr>\n",
       "      <th>c18309219e789960add0b2255ca4b091</th>\n",
       "      <td>5.0</td>\n",
       "    </tr>\n",
       "    <tr>\n",
       "      <th>c7246702dc991a06d788120dc7544391</th>\n",
       "      <td>5.0</td>\n",
       "    </tr>\n",
       "    <tr>\n",
       "      <th>eaaa46e98c9e61f6764dd1d7a2ab8b3e</th>\n",
       "      <td>5.0</td>\n",
       "    </tr>\n",
       "    <tr>\n",
       "      <th>466222e777149751370e7e98fb623b0c</th>\n",
       "      <td>5.0</td>\n",
       "    </tr>\n",
       "    <tr>\n",
       "      <th>ea846a0e7ad98a741783e886d89dfa44</th>\n",
       "      <td>5.0</td>\n",
       "    </tr>\n",
       "    <tr>\n",
       "      <th>...</th>\n",
       "      <td>...</td>\n",
       "    </tr>\n",
       "    <tr>\n",
       "      <th>dc120d932ddf9d4dfb6fd68beefda622</th>\n",
       "      <td>1.0</td>\n",
       "    </tr>\n",
       "    <tr>\n",
       "      <th>749e7cdabbaf72f16677859e27874ba5</th>\n",
       "      <td>1.0</td>\n",
       "    </tr>\n",
       "    <tr>\n",
       "      <th>dadc51ef321949ec9a3ab25cd902e23d</th>\n",
       "      <td>1.0</td>\n",
       "    </tr>\n",
       "    <tr>\n",
       "      <th>da2782c804606d2a5d8e1760dbb3e7ec</th>\n",
       "      <td>1.0</td>\n",
       "    </tr>\n",
       "    <tr>\n",
       "      <th>61b893c57e33626afb104d4112b1be76</th>\n",
       "      <td>1.0</td>\n",
       "    </tr>\n",
       "  </tbody>\n",
       "</table>\n",
       "<p>3095 rows × 1 columns</p>\n",
       "</div>"
      ]
     },
     "execution_count": 29,
     "metadata": {},
     "output_type": "execute_result"
    }
   ],
   "execution_count": 29
  },
  {
   "metadata": {
    "ExecuteTime": {
     "end_time": "2024-07-08T02:55:35.858127Z",
     "start_time": "2024-07-08T02:55:35.847616Z"
    }
   },
   "cell_type": "code",
   "source": [
    "df_total['review_score'] = df_total['review_score'].round(1)\n",
    "df_total.sort_values(by='review_score', ascending=False)"
   ],
   "id": "33f0222c3ed38b1",
   "outputs": [
    {
     "data": {
      "text/plain": [
       "                                  review_score\n",
       "seller_id                                     \n",
       "c18309219e789960add0b2255ca4b091           5.0\n",
       "59de1d4c8c057c2a53acd4ca66531af2           5.0\n",
       "dd264199fc8b687ad029de7de6d760e6           5.0\n",
       "dd39ad39b5d3df33037e141c72497ba6           5.0\n",
       "dd5450b022b2d00a2145a66331e1aef6           5.0\n",
       "...                                        ...\n",
       "fc6295add6f51a0936407ead70c1001d           1.0\n",
       "9c57bc60cfad5ee62d35d3f1ce4593a1           1.0\n",
       "cc1f04647be106ba74e62b21f358af25           1.0\n",
       "fc99f99385ae90f66f01733856fb88c9           1.0\n",
       "61b893c57e33626afb104d4112b1be76           1.0\n",
       "\n",
       "[3095 rows x 1 columns]"
      ],
      "text/html": [
       "<div>\n",
       "<style scoped>\n",
       "    .dataframe tbody tr th:only-of-type {\n",
       "        vertical-align: middle;\n",
       "    }\n",
       "\n",
       "    .dataframe tbody tr th {\n",
       "        vertical-align: top;\n",
       "    }\n",
       "\n",
       "    .dataframe thead th {\n",
       "        text-align: right;\n",
       "    }\n",
       "</style>\n",
       "<table border=\"1\" class=\"dataframe\">\n",
       "  <thead>\n",
       "    <tr style=\"text-align: right;\">\n",
       "      <th></th>\n",
       "      <th>review_score</th>\n",
       "    </tr>\n",
       "    <tr>\n",
       "      <th>seller_id</th>\n",
       "      <th></th>\n",
       "    </tr>\n",
       "  </thead>\n",
       "  <tbody>\n",
       "    <tr>\n",
       "      <th>c18309219e789960add0b2255ca4b091</th>\n",
       "      <td>5.0</td>\n",
       "    </tr>\n",
       "    <tr>\n",
       "      <th>59de1d4c8c057c2a53acd4ca66531af2</th>\n",
       "      <td>5.0</td>\n",
       "    </tr>\n",
       "    <tr>\n",
       "      <th>dd264199fc8b687ad029de7de6d760e6</th>\n",
       "      <td>5.0</td>\n",
       "    </tr>\n",
       "    <tr>\n",
       "      <th>dd39ad39b5d3df33037e141c72497ba6</th>\n",
       "      <td>5.0</td>\n",
       "    </tr>\n",
       "    <tr>\n",
       "      <th>dd5450b022b2d00a2145a66331e1aef6</th>\n",
       "      <td>5.0</td>\n",
       "    </tr>\n",
       "    <tr>\n",
       "      <th>...</th>\n",
       "      <td>...</td>\n",
       "    </tr>\n",
       "    <tr>\n",
       "      <th>fc6295add6f51a0936407ead70c1001d</th>\n",
       "      <td>1.0</td>\n",
       "    </tr>\n",
       "    <tr>\n",
       "      <th>9c57bc60cfad5ee62d35d3f1ce4593a1</th>\n",
       "      <td>1.0</td>\n",
       "    </tr>\n",
       "    <tr>\n",
       "      <th>cc1f04647be106ba74e62b21f358af25</th>\n",
       "      <td>1.0</td>\n",
       "    </tr>\n",
       "    <tr>\n",
       "      <th>fc99f99385ae90f66f01733856fb88c9</th>\n",
       "      <td>1.0</td>\n",
       "    </tr>\n",
       "    <tr>\n",
       "      <th>61b893c57e33626afb104d4112b1be76</th>\n",
       "      <td>1.0</td>\n",
       "    </tr>\n",
       "  </tbody>\n",
       "</table>\n",
       "<p>3095 rows × 1 columns</p>\n",
       "</div>"
      ]
     },
     "execution_count": 31,
     "metadata": {},
     "output_type": "execute_result"
    }
   ],
   "execution_count": 31
  },
  {
   "metadata": {
    "ExecuteTime": {
     "end_time": "2024-07-08T03:12:51.168406Z",
     "start_time": "2024-07-08T03:12:50.962456Z"
    }
   },
   "cell_type": "code",
   "source": [
    "from matplotlib import pyplot as plt\n",
    "import matplotlib \n",
    "# 保留订单量大于 100 的商户\n",
    "df3_filtered = df3[df3 > 200]\n",
    "\n",
    "# 绘制柱状图\n",
    "df3_filtered.plot.bar(stacked=True)\n",
    "plt.tick_params(axis='x', which='both', bottom=False, top=False, labelbottom=False)\n",
    "plt.tight_layout()\n",
    "plt.show()"
   ],
   "id": "6ee01a077fe22e0",
   "outputs": [
    {
     "data": {
      "text/plain": [
       "<Figure size 640x480 with 1 Axes>"
      ],
      "image/png": "[encoded data removed]"
     },
     "metadata": {},
     "output_type": "display_data"
    }
   ],
   "execution_count": 49
  },
  {
   "metadata": {
    "ExecuteTime": {
     "end_time": "2024-07-08T03:13:35.838463Z",
     "start_time": "2024-07-08T03:13:35.745812Z"
    }
   },
   "cell_type": "code",
   "source": "df_total2.plot()",
   "id": "acaae36a5d3f73c1",
   "outputs": [
    {
     "data": {
      "text/plain": [
       "<Axes: >"
      ]
     },
     "execution_count": 50,
     "metadata": {},
     "output_type": "execute_result"
    },
    {
     "data": {
      "text/plain": [
       "<Figure size 640x480 with 1 Axes>"
      ],
      "image/png": "[encoded data removed]"
     },
     "metadata": {},
     "output_type": "display_data"
    }
   ],
   "execution_count": 50
  },
  {
   "metadata": {
    "ExecuteTime": {
     "end_time": "2024-07-12T01:32:32.750806Z",
     "start_time": "2024-07-12T01:32:32.736982Z"
    }
   },
   "cell_type": "code",
   "source": [
    "\n",
    "shop_sales = pd.read_csv(\"C:/Users/KK Chan/Desktop/作業/fianl_project/各商戶售額.csv\")\n",
    "shop_order = pd.read_csv(\"C:/Users/KK Chan/Desktop/作業/fianl_project/各商戶訂單量.csv\")"
   ],
   "id": "a4812cdfcb935e92",
   "outputs": [],
   "execution_count": 3
  },
  {
   "metadata": {
    "ExecuteTime": {
     "end_time": "2024-07-12T01:59:20.699554Z",
     "start_time": "2024-07-12T01:59:20.674941Z"
    }
   },
   "cell_type": "code",
   "source": [
    "shop_order.info()\n",
    "shop_order.describe()\n",
    "shop_sales"
   ],
   "id": "8cb1c7487f9284c6",
   "outputs": [
    {
     "name": "stdout",
     "output_type": "stream",
     "text": [
      "<class 'pandas.core.frame.DataFrame'>\n",
      "RangeIndex: 3094 entries, 0 to 3093\n",
      "Data columns (total 2 columns):\n",
      " #   Column                            Non-Null Count  Dtype \n",
      "---  ------                            --------------  ----- \n",
      " 0   4a3ca9315b744ce9f8e9374361493884  3094 non-null   object\n",
      " 1   2155                              3094 non-null   int64 \n",
      "dtypes: int64(1), object(1)\n",
      "memory usage: 48.5+ KB\n"
     ]
    },
    {
     "data": {
      "text/plain": [
       "      商戶編號                              商戶ID        售額 等級\n",
       "0        1  001cca7ae9ae17fb1caed9dfb1094831  48349.22  4\n",
       "1        2  001e6ad469a905060d959994f1b41e4f    267.94  1\n",
       "2        3  002100f778ceb8431b7a1020ff7ab48f   2478.33  2\n",
       "3        4  003554e2dce176b5555353e4f3555ac8    139.38  1\n",
       "4        5  004c9cd9d87a3c30c522c48c4fc07416  28784.54  4\n",
       "...    ...                               ...       ... ..\n",
       "3089  3090  ffcfefa19b08742c5d315f2791395ee5     79.52  1\n",
       "3090  3091  ffdd9f82b9a447f6f8d4b91554cc7dd3   3607.52  2\n",
       "3091  3092  ffeee66ac5d5a62fe688b9d26f83f534   2259.55  2\n",
       "3092  3093  fffd5413c0700ac820c7069d66d98c89  12834.27  4\n",
       "3093  3094  ffff564a4f9085cd26170f4732393726   1770.86  2\n",
       "\n",
       "[3094 rows x 4 columns]"
      ],
      "text/html": [
       "<div>\n",
       "<style scoped>\n",
       "    .dataframe tbody tr th:only-of-type {\n",
       "        vertical-align: middle;\n",
       "    }\n",
       "\n",
       "    .dataframe tbody tr th {\n",
       "        vertical-align: top;\n",
       "    }\n",
       "\n",
       "    .dataframe thead th {\n",
       "        text-align: right;\n",
       "    }\n",
       "</style>\n",
       "<table border=\"1\" class=\"dataframe\">\n",
       "  <thead>\n",
       "    <tr style=\"text-align: right;\">\n",
       "      <th></th>\n",
       "      <th>商戶編號</th>\n",
       "      <th>商戶ID</th>\n",
       "      <th>售額</th>\n",
       "      <th>等級</th>\n",
       "    </tr>\n",
       "  </thead>\n",
       "  <tbody>\n",
       "    <tr>\n",
       "      <th>0</th>\n",
       "      <td>1</td>\n",
       "      <td>001cca7ae9ae17fb1caed9dfb1094831</td>\n",
       "      <td>48349.22</td>\n",
       "      <td>4</td>\n",
       "    </tr>\n",
       "    <tr>\n",
       "      <th>1</th>\n",
       "      <td>2</td>\n",
       "      <td>001e6ad469a905060d959994f1b41e4f</td>\n",
       "      <td>267.94</td>\n",
       "      <td>1</td>\n",
       "    </tr>\n",
       "    <tr>\n",
       "      <th>2</th>\n",
       "      <td>3</td>\n",
       "      <td>002100f778ceb8431b7a1020ff7ab48f</td>\n",
       "      <td>2478.33</td>\n",
       "      <td>2</td>\n",
       "    </tr>\n",
       "    <tr>\n",
       "      <th>3</th>\n",
       "      <td>4</td>\n",
       "      <td>003554e2dce176b5555353e4f3555ac8</td>\n",
       "      <td>139.38</td>\n",
       "      <td>1</td>\n",
       "    </tr>\n",
       "    <tr>\n",
       "      <th>4</th>\n",
       "      <td>5</td>\n",
       "      <td>004c9cd9d87a3c30c522c48c4fc07416</td>\n",
       "      <td>28784.54</td>\n",
       "      <td>4</td>\n",
       "    </tr>\n",
       "    <tr>\n",
       "      <th>...</th>\n",
       "      <td>...</td>\n",
       "      <td>...</td>\n",
       "      <td>...</td>\n",
       "      <td>...</td>\n",
       "    </tr>\n",
       "    <tr>\n",
       "      <th>3089</th>\n",
       "      <td>3090</td>\n",
       "      <td>ffcfefa19b08742c5d315f2791395ee5</td>\n",
       "      <td>79.52</td>\n",
       "      <td>1</td>\n",
       "    </tr>\n",
       "    <tr>\n",
       "      <th>3090</th>\n",
       "      <td>3091</td>\n",
       "      <td>ffdd9f82b9a447f6f8d4b91554cc7dd3</td>\n",
       "      <td>3607.52</td>\n",
       "      <td>2</td>\n",
       "    </tr>\n",
       "    <tr>\n",
       "      <th>3091</th>\n",
       "      <td>3092</td>\n",
       "      <td>ffeee66ac5d5a62fe688b9d26f83f534</td>\n",
       "      <td>2259.55</td>\n",
       "      <td>2</td>\n",
       "    </tr>\n",
       "    <tr>\n",
       "      <th>3092</th>\n",
       "      <td>3093</td>\n",
       "      <td>fffd5413c0700ac820c7069d66d98c89</td>\n",
       "      <td>12834.27</td>\n",
       "      <td>4</td>\n",
       "    </tr>\n",
       "    <tr>\n",
       "      <th>3093</th>\n",
       "      <td>3094</td>\n",
       "      <td>ffff564a4f9085cd26170f4732393726</td>\n",
       "      <td>1770.86</td>\n",
       "      <td>2</td>\n",
       "    </tr>\n",
       "  </tbody>\n",
       "</table>\n",
       "<p>3094 rows × 4 columns</p>\n",
       "</div>"
      ]
     },
     "execution_count": 33,
     "metadata": {},
     "output_type": "execute_result"
    }
   ],
   "execution_count": 33
  },
  {
   "metadata": {
    "ExecuteTime": {
     "end_time": "2024-07-12T01:58:03.476153Z",
     "start_time": "2024-07-12T01:58:03.461444Z"
    }
   },
   "cell_type": "code",
   "source": "shop_order.max()",
   "id": "4f4e685b087b0984",
   "outputs": [
    {
     "data": {
      "text/plain": [
       "4a3ca9315b744ce9f8e9374361493884    ffff564a4f9085cd26170f4732393726\n",
       "2155                                                            2130\n",
       "dtype: object"
      ]
     },
     "execution_count": 29,
     "metadata": {},
     "output_type": "execute_result"
    }
   ],
   "execution_count": 29
  },
  {
   "metadata": {
    "ExecuteTime": {
     "end_time": "2024-07-12T02:05:28.253295Z",
     "start_time": "2024-07-12T02:05:28.221717Z"
    }
   },
   "cell_type": "code",
   "source": [
    "# 读取CSV文件\n",
    "data = shop_sales\n",
    "data.columns = ['商戶編號', '商戶ID', '售額']\n",
    "\n",
    "# 将缺失的售额值替换为0\n",
    "data['售額'].fillna(0, inplace=True)\n",
    "\n",
    "# 定义售额等级边界值\n",
    "bins = [0, 1000, 5000, 10000, float('inf')]\n",
    "\n",
    "# 定义售额等级标签\n",
    "labels = ['0-1000', '1000-5000', '5000-10000', '10000+']\n",
    "\n",
    "# 将每个商户分配到对应的等级\n",
    "data['等級'] = pd.cut(data['售額'], bins=bins, labels=labels, right=False)\n",
    "\n",
    "# 打印结果\n",
    "print(data)"
   ],
   "id": "3147a96b32ea507d",
   "outputs": [
    {
     "ename": "ValueError",
     "evalue": "Length mismatch: Expected axis has 4 elements, new values have 3 elements",
     "output_type": "error",
     "traceback": [
      "\u001B[1;31m---------------------------------------------------------------------------\u001B[0m",
      "\u001B[1;31mValueError\u001B[0m                                Traceback (most recent call last)",
      "Cell \u001B[1;32mIn[39], line 3\u001B[0m\n\u001B[0;32m      1\u001B[0m \u001B[38;5;66;03m# 读取CSV文件\u001B[39;00m\n\u001B[0;32m      2\u001B[0m data \u001B[38;5;241m=\u001B[39m shop_sales\n\u001B[1;32m----> 3\u001B[0m \u001B[43mdata\u001B[49m\u001B[38;5;241;43m.\u001B[39;49m\u001B[43mcolumns\u001B[49m \u001B[38;5;241m=\u001B[39m [\u001B[38;5;124m'\u001B[39m\u001B[38;5;124m商戶編號\u001B[39m\u001B[38;5;124m'\u001B[39m, \u001B[38;5;124m'\u001B[39m\u001B[38;5;124m商戶ID\u001B[39m\u001B[38;5;124m'\u001B[39m, \u001B[38;5;124m'\u001B[39m\u001B[38;5;124m售額\u001B[39m\u001B[38;5;124m'\u001B[39m]\n\u001B[0;32m      5\u001B[0m \u001B[38;5;66;03m# 将缺失的售额值替换为0\u001B[39;00m\n\u001B[0;32m      6\u001B[0m data[\u001B[38;5;124m'\u001B[39m\u001B[38;5;124m售額\u001B[39m\u001B[38;5;124m'\u001B[39m]\u001B[38;5;241m.\u001B[39mfillna(\u001B[38;5;241m0\u001B[39m, inplace\u001B[38;5;241m=\u001B[39m\u001B[38;5;28;01mTrue\u001B[39;00m)\n",
      "File \u001B[1;32mC:\\python\\lib\\site-packages\\pandas\\core\\generic.py:6313\u001B[0m, in \u001B[0;36mNDFrame.__setattr__\u001B[1;34m(self, name, value)\u001B[0m\n\u001B[0;32m   6311\u001B[0m \u001B[38;5;28;01mtry\u001B[39;00m:\n\u001B[0;32m   6312\u001B[0m     \u001B[38;5;28mobject\u001B[39m\u001B[38;5;241m.\u001B[39m\u001B[38;5;21m__getattribute__\u001B[39m(\u001B[38;5;28mself\u001B[39m, name)\n\u001B[1;32m-> 6313\u001B[0m     \u001B[38;5;28;01mreturn\u001B[39;00m \u001B[38;5;28;43mobject\u001B[39;49m\u001B[38;5;241;43m.\u001B[39;49m\u001B[38;5;21;43m__setattr__\u001B[39;49m\u001B[43m(\u001B[49m\u001B[38;5;28;43mself\u001B[39;49m\u001B[43m,\u001B[49m\u001B[43m \u001B[49m\u001B[43mname\u001B[49m\u001B[43m,\u001B[49m\u001B[43m \u001B[49m\u001B[43mvalue\u001B[49m\u001B[43m)\u001B[49m\n\u001B[0;32m   6314\u001B[0m \u001B[38;5;28;01mexcept\u001B[39;00m \u001B[38;5;167;01mAttributeError\u001B[39;00m:\n\u001B[0;32m   6315\u001B[0m     \u001B[38;5;28;01mpass\u001B[39;00m\n",
      "File \u001B[1;32mproperties.pyx:69\u001B[0m, in \u001B[0;36mpandas._libs.properties.AxisProperty.__set__\u001B[1;34m()\u001B[0m\n",
      "File \u001B[1;32mC:\\python\\lib\\site-packages\\pandas\\core\\generic.py:814\u001B[0m, in \u001B[0;36mNDFrame._set_axis\u001B[1;34m(self, axis, labels)\u001B[0m\n\u001B[0;32m    809\u001B[0m \u001B[38;5;250m\u001B[39m\u001B[38;5;124;03m\"\"\"\u001B[39;00m\n\u001B[0;32m    810\u001B[0m \u001B[38;5;124;03mThis is called from the cython code when we set the `index` attribute\u001B[39;00m\n\u001B[0;32m    811\u001B[0m \u001B[38;5;124;03mdirectly, e.g. `series.index = [1, 2, 3]`.\u001B[39;00m\n\u001B[0;32m    812\u001B[0m \u001B[38;5;124;03m\"\"\"\u001B[39;00m\n\u001B[0;32m    813\u001B[0m labels \u001B[38;5;241m=\u001B[39m ensure_index(labels)\n\u001B[1;32m--> 814\u001B[0m \u001B[38;5;28;43mself\u001B[39;49m\u001B[38;5;241;43m.\u001B[39;49m\u001B[43m_mgr\u001B[49m\u001B[38;5;241;43m.\u001B[39;49m\u001B[43mset_axis\u001B[49m\u001B[43m(\u001B[49m\u001B[43maxis\u001B[49m\u001B[43m,\u001B[49m\u001B[43m \u001B[49m\u001B[43mlabels\u001B[49m\u001B[43m)\u001B[49m\n\u001B[0;32m    815\u001B[0m \u001B[38;5;28mself\u001B[39m\u001B[38;5;241m.\u001B[39m_clear_item_cache()\n",
      "File \u001B[1;32mC:\\python\\lib\\site-packages\\pandas\\core\\internals\\managers.py:238\u001B[0m, in \u001B[0;36mBaseBlockManager.set_axis\u001B[1;34m(self, axis, new_labels)\u001B[0m\n\u001B[0;32m    236\u001B[0m \u001B[38;5;28;01mdef\u001B[39;00m \u001B[38;5;21mset_axis\u001B[39m(\u001B[38;5;28mself\u001B[39m, axis: AxisInt, new_labels: Index) \u001B[38;5;241m-\u001B[39m\u001B[38;5;241m>\u001B[39m \u001B[38;5;28;01mNone\u001B[39;00m:\n\u001B[0;32m    237\u001B[0m     \u001B[38;5;66;03m# Caller is responsible for ensuring we have an Index object.\u001B[39;00m\n\u001B[1;32m--> 238\u001B[0m     \u001B[38;5;28;43mself\u001B[39;49m\u001B[38;5;241;43m.\u001B[39;49m\u001B[43m_validate_set_axis\u001B[49m\u001B[43m(\u001B[49m\u001B[43maxis\u001B[49m\u001B[43m,\u001B[49m\u001B[43m \u001B[49m\u001B[43mnew_labels\u001B[49m\u001B[43m)\u001B[49m\n\u001B[0;32m    239\u001B[0m     \u001B[38;5;28mself\u001B[39m\u001B[38;5;241m.\u001B[39maxes[axis] \u001B[38;5;241m=\u001B[39m new_labels\n",
      "File \u001B[1;32mC:\\python\\lib\\site-packages\\pandas\\core\\internals\\base.py:98\u001B[0m, in \u001B[0;36mDataManager._validate_set_axis\u001B[1;34m(self, axis, new_labels)\u001B[0m\n\u001B[0;32m     95\u001B[0m     \u001B[38;5;28;01mpass\u001B[39;00m\n\u001B[0;32m     97\u001B[0m \u001B[38;5;28;01melif\u001B[39;00m new_len \u001B[38;5;241m!=\u001B[39m old_len:\n\u001B[1;32m---> 98\u001B[0m     \u001B[38;5;28;01mraise\u001B[39;00m \u001B[38;5;167;01mValueError\u001B[39;00m(\n\u001B[0;32m     99\u001B[0m         \u001B[38;5;124mf\u001B[39m\u001B[38;5;124m\"\u001B[39m\u001B[38;5;124mLength mismatch: Expected axis has \u001B[39m\u001B[38;5;132;01m{\u001B[39;00mold_len\u001B[38;5;132;01m}\u001B[39;00m\u001B[38;5;124m elements, new \u001B[39m\u001B[38;5;124m\"\u001B[39m\n\u001B[0;32m    100\u001B[0m         \u001B[38;5;124mf\u001B[39m\u001B[38;5;124m\"\u001B[39m\u001B[38;5;124mvalues have \u001B[39m\u001B[38;5;132;01m{\u001B[39;00mnew_len\u001B[38;5;132;01m}\u001B[39;00m\u001B[38;5;124m elements\u001B[39m\u001B[38;5;124m\"\u001B[39m\n\u001B[0;32m    101\u001B[0m     )\n",
      "\u001B[1;31mValueError\u001B[0m: Length mismatch: Expected axis has 4 elements, new values have 3 elements"
     ]
    }
   ],
   "execution_count": 39
  },
  {
   "metadata": {
    "ExecuteTime": {
     "end_time": "2024-07-12T02:00:02.844848Z",
     "start_time": "2024-07-12T02:00:02.828814Z"
    }
   },
   "cell_type": "code",
   "source": "shop_order.columns=['商戶ID', '訂單']",
   "id": "2c1318b0d0f63da0",
   "outputs": [],
   "execution_count": 35
  },
  {
   "metadata": {
    "ExecuteTime": {
     "end_time": "2024-07-12T02:02:29.288458Z",
     "start_time": "2024-07-12T02:02:29.273025Z"
    }
   },
   "cell_type": "code",
   "source": "shop_order.describe()",
   "id": "86869305fa796dab",
   "outputs": [
    {
     "data": {
      "text/plain": [
       "                訂單\n",
       "count  3094.000000\n",
       "mean     37.543633\n",
       "std     119.497725\n",
       "min       1.000000\n",
       "25%       2.000000\n",
       "50%       8.000000\n",
       "75%      26.000000\n",
       "max    2130.000000"
      ],
      "text/html": [
       "<div>\n",
       "<style scoped>\n",
       "    .dataframe tbody tr th:only-of-type {\n",
       "        vertical-align: middle;\n",
       "    }\n",
       "\n",
       "    .dataframe tbody tr th {\n",
       "        vertical-align: top;\n",
       "    }\n",
       "\n",
       "    .dataframe thead th {\n",
       "        text-align: right;\n",
       "    }\n",
       "</style>\n",
       "<table border=\"1\" class=\"dataframe\">\n",
       "  <thead>\n",
       "    <tr style=\"text-align: right;\">\n",
       "      <th></th>\n",
       "      <th>訂單</th>\n",
       "    </tr>\n",
       "  </thead>\n",
       "  <tbody>\n",
       "    <tr>\n",
       "      <th>count</th>\n",
       "      <td>3094.000000</td>\n",
       "    </tr>\n",
       "    <tr>\n",
       "      <th>mean</th>\n",
       "      <td>37.543633</td>\n",
       "    </tr>\n",
       "    <tr>\n",
       "      <th>std</th>\n",
       "      <td>119.497725</td>\n",
       "    </tr>\n",
       "    <tr>\n",
       "      <th>min</th>\n",
       "      <td>1.000000</td>\n",
       "    </tr>\n",
       "    <tr>\n",
       "      <th>25%</th>\n",
       "      <td>2.000000</td>\n",
       "    </tr>\n",
       "    <tr>\n",
       "      <th>50%</th>\n",
       "      <td>8.000000</td>\n",
       "    </tr>\n",
       "    <tr>\n",
       "      <th>75%</th>\n",
       "      <td>26.000000</td>\n",
       "    </tr>\n",
       "    <tr>\n",
       "      <th>max</th>\n",
       "      <td>2130.000000</td>\n",
       "    </tr>\n",
       "  </tbody>\n",
       "</table>\n",
       "</div>"
      ]
     },
     "execution_count": 37,
     "metadata": {},
     "output_type": "execute_result"
    }
   ],
   "execution_count": 37
  },
  {
   "metadata": {
    "ExecuteTime": {
     "end_time": "2024-07-12T02:36:37.958605Z",
     "start_time": "2024-07-12T02:36:37.944099Z"
    }
   },
   "cell_type": "code",
   "source": [
    "# 定义售额等级边界值\n",
    "bins = [0, 500, 1000, 1500, 2000 ,  float('inf')]\n",
    "\n",
    "# 定义售额等级标签\n",
    "labels = ['0-500', '500-1000', '1000-1500', '1500-2000','2000+']\n",
    "\n",
    "# 将每个商户分配到对应的等级\n",
    "shop_order['數量範圍'] = pd.cut(shop_order['訂單'], bins=bins, labels=labels, right=False)\n",
    "\n",
    "# 打印结果\n",
    "shop_order\n"
   ],
   "id": "bfe3c627a02c17f8",
   "outputs": [
    {
     "data": {
      "text/plain": [
       "                                  商戶ID    訂單       數量範圍\n",
       "0     6560211a19b47992c3666cc44a7e94c0  2130      2000+\n",
       "1     1f50f920176fa81dab994f9023523100  2017      2000+\n",
       "2     cc419e0650a3c5ba77189a1882b7556a  1893  1500-2000\n",
       "3     da8622b14eb17ae2831f4ac5b9dab84a  1662  1500-2000\n",
       "4     955fee9216a65b617aa5c0531780ce60  1530  1500-2000\n",
       "...                                ...   ...        ...\n",
       "3089  d4828feed4cda2cd9d6b37899a95a71e     1      0-500\n",
       "3090  d4d99b60c4c94cd35acd502cec65dc8d     1      0-500\n",
       "3091  5f57db27027655e6c6a391601daa0258     1      0-500\n",
       "3092  d4f91e8be86b38da2ee35bc489645a9d     1      0-500\n",
       "3093  7d81e74a4755b552267cd5e081563028     1      0-500\n",
       "\n",
       "[3094 rows x 3 columns]"
      ],
      "text/html": [
       "<div>\n",
       "<style scoped>\n",
       "    .dataframe tbody tr th:only-of-type {\n",
       "        vertical-align: middle;\n",
       "    }\n",
       "\n",
       "    .dataframe tbody tr th {\n",
       "        vertical-align: top;\n",
       "    }\n",
       "\n",
       "    .dataframe thead th {\n",
       "        text-align: right;\n",
       "    }\n",
       "</style>\n",
       "<table border=\"1\" class=\"dataframe\">\n",
       "  <thead>\n",
       "    <tr style=\"text-align: right;\">\n",
       "      <th></th>\n",
       "      <th>商戶ID</th>\n",
       "      <th>訂單</th>\n",
       "      <th>數量範圍</th>\n",
       "    </tr>\n",
       "  </thead>\n",
       "  <tbody>\n",
       "    <tr>\n",
       "      <th>0</th>\n",
       "      <td>6560211a19b47992c3666cc44a7e94c0</td>\n",
       "      <td>2130</td>\n",
       "      <td>2000+</td>\n",
       "    </tr>\n",
       "    <tr>\n",
       "      <th>1</th>\n",
       "      <td>1f50f920176fa81dab994f9023523100</td>\n",
       "      <td>2017</td>\n",
       "      <td>2000+</td>\n",
       "    </tr>\n",
       "    <tr>\n",
       "      <th>2</th>\n",
       "      <td>cc419e0650a3c5ba77189a1882b7556a</td>\n",
       "      <td>1893</td>\n",
       "      <td>1500-2000</td>\n",
       "    </tr>\n",
       "    <tr>\n",
       "      <th>3</th>\n",
       "      <td>da8622b14eb17ae2831f4ac5b9dab84a</td>\n",
       "      <td>1662</td>\n",
       "      <td>1500-2000</td>\n",
       "    </tr>\n",
       "    <tr>\n",
       "      <th>4</th>\n",
       "      <td>955fee9216a65b617aa5c0531780ce60</td>\n",
       "      <td>1530</td>\n",
       "      <td>1500-2000</td>\n",
       "    </tr>\n",
       "    <tr>\n",
       "      <th>...</th>\n",
       "      <td>...</td>\n",
       "      <td>...</td>\n",
       "      <td>...</td>\n",
       "    </tr>\n",
       "    <tr>\n",
       "      <th>3089</th>\n",
       "      <td>d4828feed4cda2cd9d6b37899a95a71e</td>\n",
       "      <td>1</td>\n",
       "      <td>0-500</td>\n",
       "    </tr>\n",
       "    <tr>\n",
       "      <th>3090</th>\n",
       "      <td>d4d99b60c4c94cd35acd502cec65dc8d</td>\n",
       "      <td>1</td>\n",
       "      <td>0-500</td>\n",
       "    </tr>\n",
       "    <tr>\n",
       "      <th>3091</th>\n",
       "      <td>5f57db27027655e6c6a391601daa0258</td>\n",
       "      <td>1</td>\n",
       "      <td>0-500</td>\n",
       "    </tr>\n",
       "    <tr>\n",
       "      <th>3092</th>\n",
       "      <td>d4f91e8be86b38da2ee35bc489645a9d</td>\n",
       "      <td>1</td>\n",
       "      <td>0-500</td>\n",
       "    </tr>\n",
       "    <tr>\n",
       "      <th>3093</th>\n",
       "      <td>7d81e74a4755b552267cd5e081563028</td>\n",
       "      <td>1</td>\n",
       "      <td>0-500</td>\n",
       "    </tr>\n",
       "  </tbody>\n",
       "</table>\n",
       "<p>3094 rows × 3 columns</p>\n",
       "</div>"
      ]
     },
     "execution_count": 61,
     "metadata": {},
     "output_type": "execute_result"
    }
   ],
   "execution_count": 61
  },
  {
   "metadata": {
    "ExecuteTime": {
     "end_time": "2024-07-12T02:41:43.159972Z",
     "start_time": "2024-07-12T02:41:43.152898Z"
    }
   },
   "cell_type": "code",
   "source": "shop_order.to_csv('商戶訂單數量範圍.csv', index=False)",
   "id": "19b0bb170f896a46",
   "outputs": [],
   "execution_count": 62
  },
  {
   "metadata": {
    "ExecuteTime": {
     "end_time": "2024-07-12T01:50:12.151812Z",
     "start_time": "2024-07-12T01:50:12.135119Z"
    }
   },
   "cell_type": "code",
   "source": [
    "# 打印读取的数据，确保数据正确加载\n",
    "print(data.head())\n",
    "\n",
    "# 检查售额列的数据类型和缺失值情况\n",
    "print(data['售額'].dtype)\n",
    "print(data['售額'].isnull().sum())\n",
    "\n",
    "# 尝试查看售额列的统计信息\n",
    "print(data['售額'].describe())\n",
    "\n",
    "# 尝试查看售额列的唯一值\n",
    "print(data['售額'].unique())\n",
    "\n",
    "# 尝试查看售额列中的前几个值\n",
    "print(data['售額'].head())\n",
    "\n",
    "# 进一步调试其他可能的问题"
   ],
   "id": "f141dce7104376d2",
   "outputs": [
    {
     "name": "stdout",
     "output_type": "stream",
     "text": [
      "   商戶編號                              商戶ID        售額   等級\n",
      "0     1  001cca7ae9ae17fb1caed9dfb1094831  48349.22  等級1\n",
      "1     2  001e6ad469a905060d959994f1b41e4f    267.94  等級1\n",
      "2     3  002100f778ceb8431b7a1020ff7ab48f   2478.33  等級1\n",
      "3     4  003554e2dce176b5555353e4f3555ac8    139.38  等級1\n",
      "4     5  004c9cd9d87a3c30c522c48c4fc07416  28784.54  等級1\n",
      "float64\n",
      "0\n",
      "count      3094.000000\n",
      "mean       6598.429247\n",
      "std       21701.853254\n",
      "min          12.220000\n",
      "25%         320.240000\n",
      "50%        1253.185000\n",
      "75%        4886.322500\n",
      "max      512645.190000\n",
      "Name: 售額, dtype: float64\n",
      "[48349.22   267.94  2478.33 ...  2259.55 12834.27  1770.86]\n",
      "0    48349.22\n",
      "1      267.94\n",
      "2     2478.33\n",
      "3      139.38\n",
      "4    28784.54\n",
      "Name: 售額, dtype: float64\n"
     ]
    }
   ],
   "execution_count": 19
  },
  {
   "metadata": {
    "ExecuteTime": {
     "end_time": "2024-07-12T02:19:14.002405Z",
     "start_time": "2024-07-12T02:19:13.985895Z"
    }
   },
   "cell_type": "code",
   "source": [
    "# 将售额范围映射为等级\n",
    "data['等級'] = pd.cut(data['售額'], bins=[0, 1000, 5000, 10000, float('inf')], labels=['0-1k', '1k-5k', '5k-10k', '10k+'], right=False)\n",
    "\n",
    "# 打印结果\n",
    "print(data)"
   ],
   "id": "519e48ca95786553",
   "outputs": [
    {
     "name": "stdout",
     "output_type": "stream",
     "text": [
      "      商戶編號                              商戶ID        售額     等級\n",
      "0        1  001cca7ae9ae17fb1caed9dfb1094831  48349.22   10k+\n",
      "1        2  001e6ad469a905060d959994f1b41e4f    267.94   0-1k\n",
      "2        3  002100f778ceb8431b7a1020ff7ab48f   2478.33  1k-5k\n",
      "3        4  003554e2dce176b5555353e4f3555ac8    139.38   0-1k\n",
      "4        5  004c9cd9d87a3c30c522c48c4fc07416  28784.54   10k+\n",
      "...    ...                               ...       ...    ...\n",
      "3089  3090  ffcfefa19b08742c5d315f2791395ee5     79.52   0-1k\n",
      "3090  3091  ffdd9f82b9a447f6f8d4b91554cc7dd3   3607.52  1k-5k\n",
      "3091  3092  ffeee66ac5d5a62fe688b9d26f83f534   2259.55  1k-5k\n",
      "3092  3093  fffd5413c0700ac820c7069d66d98c89  12834.27   10k+\n",
      "3093  3094  ffff564a4f9085cd26170f4732393726   1770.86  1k-5k\n",
      "\n",
      "[3094 rows x 4 columns]\n"
     ]
    }
   ],
   "execution_count": 49
  },
  {
   "metadata": {
    "ExecuteTime": {
     "end_time": "2024-07-12T02:18:50.302157Z",
     "start_time": "2024-07-12T02:18:50.292531Z"
    }
   },
   "cell_type": "code",
   "source": "data",
   "id": "191d3aa51ae96f6",
   "outputs": [
    {
     "data": {
      "text/plain": [
       "      商戶編號                              商戶ID        售額          等級\n",
       "0        1  001cca7ae9ae17fb1caed9dfb1094831  48349.22   等級4: 10k+\n",
       "1        2  001e6ad469a905060d959994f1b41e4f    267.94   等級1: 0-1k\n",
       "2        3  002100f778ceb8431b7a1020ff7ab48f   2478.33  等級2: 1k-5k\n",
       "3        4  003554e2dce176b5555353e4f3555ac8    139.38   等級1: 0-1k\n",
       "4        5  004c9cd9d87a3c30c522c48c4fc07416  28784.54   等級4: 10k+\n",
       "...    ...                               ...       ...         ...\n",
       "3089  3090  ffcfefa19b08742c5d315f2791395ee5     79.52   等級1: 0-1k\n",
       "3090  3091  ffdd9f82b9a447f6f8d4b91554cc7dd3   3607.52  等級2: 1k-5k\n",
       "3091  3092  ffeee66ac5d5a62fe688b9d26f83f534   2259.55  等級2: 1k-5k\n",
       "3092  3093  fffd5413c0700ac820c7069d66d98c89  12834.27   等級4: 10k+\n",
       "3093  3094  ffff564a4f9085cd26170f4732393726   1770.86  等級2: 1k-5k\n",
       "\n",
       "[3094 rows x 4 columns]"
      ],
      "text/html": [
       "<div>\n",
       "<style scoped>\n",
       "    .dataframe tbody tr th:only-of-type {\n",
       "        vertical-align: middle;\n",
       "    }\n",
       "\n",
       "    .dataframe tbody tr th {\n",
       "        vertical-align: top;\n",
       "    }\n",
       "\n",
       "    .dataframe thead th {\n",
       "        text-align: right;\n",
       "    }\n",
       "</style>\n",
       "<table border=\"1\" class=\"dataframe\">\n",
       "  <thead>\n",
       "    <tr style=\"text-align: right;\">\n",
       "      <th></th>\n",
       "      <th>商戶編號</th>\n",
       "      <th>商戶ID</th>\n",
       "      <th>售額</th>\n",
       "      <th>等級</th>\n",
       "    </tr>\n",
       "  </thead>\n",
       "  <tbody>\n",
       "    <tr>\n",
       "      <th>0</th>\n",
       "      <td>1</td>\n",
       "      <td>001cca7ae9ae17fb1caed9dfb1094831</td>\n",
       "      <td>48349.22</td>\n",
       "      <td>等級4: 10k+</td>\n",
       "    </tr>\n",
       "    <tr>\n",
       "      <th>1</th>\n",
       "      <td>2</td>\n",
       "      <td>001e6ad469a905060d959994f1b41e4f</td>\n",
       "      <td>267.94</td>\n",
       "      <td>等級1: 0-1k</td>\n",
       "    </tr>\n",
       "    <tr>\n",
       "      <th>2</th>\n",
       "      <td>3</td>\n",
       "      <td>002100f778ceb8431b7a1020ff7ab48f</td>\n",
       "      <td>2478.33</td>\n",
       "      <td>等級2: 1k-5k</td>\n",
       "    </tr>\n",
       "    <tr>\n",
       "      <th>3</th>\n",
       "      <td>4</td>\n",
       "      <td>003554e2dce176b5555353e4f3555ac8</td>\n",
       "      <td>139.38</td>\n",
       "      <td>等級1: 0-1k</td>\n",
       "    </tr>\n",
       "    <tr>\n",
       "      <th>4</th>\n",
       "      <td>5</td>\n",
       "      <td>004c9cd9d87a3c30c522c48c4fc07416</td>\n",
       "      <td>28784.54</td>\n",
       "      <td>等級4: 10k+</td>\n",
       "    </tr>\n",
       "    <tr>\n",
       "      <th>...</th>\n",
       "      <td>...</td>\n",
       "      <td>...</td>\n",
       "      <td>...</td>\n",
       "      <td>...</td>\n",
       "    </tr>\n",
       "    <tr>\n",
       "      <th>3089</th>\n",
       "      <td>3090</td>\n",
       "      <td>ffcfefa19b08742c5d315f2791395ee5</td>\n",
       "      <td>79.52</td>\n",
       "      <td>等級1: 0-1k</td>\n",
       "    </tr>\n",
       "    <tr>\n",
       "      <th>3090</th>\n",
       "      <td>3091</td>\n",
       "      <td>ffdd9f82b9a447f6f8d4b91554cc7dd3</td>\n",
       "      <td>3607.52</td>\n",
       "      <td>等級2: 1k-5k</td>\n",
       "    </tr>\n",
       "    <tr>\n",
       "      <th>3091</th>\n",
       "      <td>3092</td>\n",
       "      <td>ffeee66ac5d5a62fe688b9d26f83f534</td>\n",
       "      <td>2259.55</td>\n",
       "      <td>等級2: 1k-5k</td>\n",
       "    </tr>\n",
       "    <tr>\n",
       "      <th>3092</th>\n",
       "      <td>3093</td>\n",
       "      <td>fffd5413c0700ac820c7069d66d98c89</td>\n",
       "      <td>12834.27</td>\n",
       "      <td>等級4: 10k+</td>\n",
       "    </tr>\n",
       "    <tr>\n",
       "      <th>3093</th>\n",
       "      <td>3094</td>\n",
       "      <td>ffff564a4f9085cd26170f4732393726</td>\n",
       "      <td>1770.86</td>\n",
       "      <td>等級2: 1k-5k</td>\n",
       "    </tr>\n",
       "  </tbody>\n",
       "</table>\n",
       "<p>3094 rows × 4 columns</p>\n",
       "</div>"
      ]
     },
     "execution_count": 48,
     "metadata": {},
     "output_type": "execute_result"
    }
   ],
   "execution_count": 48
  },
  {
   "metadata": {
    "ExecuteTime": {
     "end_time": "2024-07-12T02:30:00.627719Z",
     "start_time": "2024-07-12T02:30:00.612309Z"
    }
   },
   "cell_type": "code",
   "source": "data2 = data.等級.value_counts()",
   "id": "cf8f0257801e7bea",
   "outputs": [],
   "execution_count": 58
  },
  {
   "metadata": {
    "ExecuteTime": {
     "end_time": "2024-07-12T02:30:02.025477Z",
     "start_time": "2024-07-12T02:30:02.011253Z"
    }
   },
   "cell_type": "code",
   "source": "data2.columns=['價錢', '商戶數量']",
   "id": "14e2cb0f04750ab5",
   "outputs": [],
   "execution_count": 59
  },
  {
   "metadata": {
    "ExecuteTime": {
     "end_time": "2024-07-12T02:29:48.585861Z",
     "start_time": "2024-07-12T02:29:48.578737Z"
    }
   },
   "cell_type": "code",
   "source": "data2",
   "id": "963eb489d4448a71",
   "outputs": [
    {
     "data": {
      "text/plain": [
       "等級\n",
       "0-1k      1399\n",
       "1k-5k      931\n",
       "10k+       451\n",
       "5k-10k     313\n",
       "Name: count, dtype: int64"
      ]
     },
     "execution_count": 57,
     "metadata": {},
     "output_type": "execute_result"
    }
   ],
   "execution_count": 57
  },
  {
   "metadata": {},
   "cell_type": "code",
   "outputs": [],
   "execution_count": null,
   "source": "",
   "id": "32335f5e3efc8a12"
  }
 ],
 "metadata": {
  "kernelspec": {
   "display_name": "Python 3",
   "language": "python",
   "name": "python3"
  },
  "language_info": {
   "codemirror_mode": {
    "name": "ipython",
    "version": 2
   },
   "file_extension": ".py",
   "mimetype": "text/x-python",
   "name": "python",
   "nbconvert_exporter": "python",
   "pygments_lexer": "ipython2",
   "version": "2.7.6"
  }
 },
 "nbformat": 4,
 "nbformat_minor": 5
}
