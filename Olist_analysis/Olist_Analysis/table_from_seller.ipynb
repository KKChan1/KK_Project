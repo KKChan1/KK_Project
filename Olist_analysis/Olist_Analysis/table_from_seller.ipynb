{
 "cells": [
  {
   "cell_type": "code",
   "id": "initial_id",
   "metadata": {
    "collapsed": true,
    "ExecuteTime": {
     "end_time": "2024-07-16T02:05:09.647304Z",
     "start_time": "2024-07-16T02:05:09.326010Z"
    }
   },
   "source": "import pandas as pd",
   "outputs": [],
   "execution_count": 1
  },
  {
   "metadata": {
    "ExecuteTime": {
     "end_time": "2024-07-16T02:05:09.663326Z",
     "start_time": "2024-07-16T02:05:09.648296Z"
    }
   },
   "cell_type": "code",
   "source": [
    "# 讀取數據集\n",
    "data = pd.read_csv(\"C:/Users/KK Chan/Desktop/作業/fianl_project/各商戶售額_分类.csv\")"
   ],
   "id": "2fd6bff48a2bd39d",
   "outputs": [],
   "execution_count": 2
  },
  {
   "metadata": {
    "ExecuteTime": {
     "end_time": "2024-07-16T02:13:03.757635Z",
     "start_time": "2024-07-16T02:13:03.737703Z"
    }
   },
   "cell_type": "code",
   "source": [
    "# Calculate total sales for each level\n",
    "total_sales = data.groupby('等級')['售額'].sum()\n",
    "\n",
    "# Calculate the percentage of total sales for each level\n",
    "sales_percentage = total_sales / total_sales.sum() * 100\n",
    "\n",
    "# Count the number of merchants in each level\n",
    "merchant_count = data.groupby('等級')['商戶編號'].count()\n",
    "\n",
    "# Calculate the percentage of merchants in each level\n",
    "merchant_percentage = merchant_count / merchant_count.sum() * 100\n",
    "\n",
    "# Calculate the range of amounts for each level\n",
    "amount_ranges = data.groupby('等級')['售額'].agg(['min', 'max'])\n",
    "\n",
    "# Create a DataFrame to store the results\n",
    "results = pd.DataFrame({\n",
    "    '分層': total_sales.index,\n",
    "    '金額範圍': [f\"{min_amt:.0f} - {max_amt:.0f}\" for min_amt, max_amt in zip(amount_ranges['min'], amount_ranges['max'])],\n",
    "    '總金額': total_sales.values,\n",
    "    '金额佔比百分比': [f\"{percentage:.0f}%\" for percentage in sales_percentage.values],\n",
    "    '商户數量': merchant_count.values,\n",
    "    '商户佔比': [f\"{percentage:.0f}%\" for percentage in merchant_percentage.values]\n",
    "})\n",
    "# Display the results\n",
    "results"
   ],
   "id": "f8c74f82d004d9bf",
   "outputs": [
    {
     "data": {
      "text/plain": [
       "   分層            金額範圍          總金額 金额佔比百分比  商户數量 商户佔比\n",
       "0   1        12 - 999    499949.50      2%  1399  45%\n",
       "1   2     1003 - 4993   2239179.15     11%   931  30%\n",
       "2   3     5004 - 9926   2234585.09     11%   313  10%\n",
       "3   4  10040 - 512645  15441826.35     76%   451  15%"
      ],
      "text/html": [
       "<div>\n",
       "<style scoped>\n",
       "    .dataframe tbody tr th:only-of-type {\n",
       "        vertical-align: middle;\n",
       "    }\n",
       "\n",
       "    .dataframe tbody tr th {\n",
       "        vertical-align: top;\n",
       "    }\n",
       "\n",
       "    .dataframe thead th {\n",
       "        text-align: right;\n",
       "    }\n",
       "</style>\n",
       "<table border=\"1\" class=\"dataframe\">\n",
       "  <thead>\n",
       "    <tr style=\"text-align: right;\">\n",
       "      <th></th>\n",
       "      <th>分層</th>\n",
       "      <th>金額範圍</th>\n",
       "      <th>總金額</th>\n",
       "      <th>金额佔比百分比</th>\n",
       "      <th>商户數量</th>\n",
       "      <th>商户佔比</th>\n",
       "    </tr>\n",
       "  </thead>\n",
       "  <tbody>\n",
       "    <tr>\n",
       "      <th>0</th>\n",
       "      <td>1</td>\n",
       "      <td>12 - 999</td>\n",
       "      <td>499949.50</td>\n",
       "      <td>2%</td>\n",
       "      <td>1399</td>\n",
       "      <td>45%</td>\n",
       "    </tr>\n",
       "    <tr>\n",
       "      <th>1</th>\n",
       "      <td>2</td>\n",
       "      <td>1003 - 4993</td>\n",
       "      <td>2239179.15</td>\n",
       "      <td>11%</td>\n",
       "      <td>931</td>\n",
       "      <td>30%</td>\n",
       "    </tr>\n",
       "    <tr>\n",
       "      <th>2</th>\n",
       "      <td>3</td>\n",
       "      <td>5004 - 9926</td>\n",
       "      <td>2234585.09</td>\n",
       "      <td>11%</td>\n",
       "      <td>313</td>\n",
       "      <td>10%</td>\n",
       "    </tr>\n",
       "    <tr>\n",
       "      <th>3</th>\n",
       "      <td>4</td>\n",
       "      <td>10040 - 512645</td>\n",
       "      <td>15441826.35</td>\n",
       "      <td>76%</td>\n",
       "      <td>451</td>\n",
       "      <td>15%</td>\n",
       "    </tr>\n",
       "  </tbody>\n",
       "</table>\n",
       "</div>"
      ]
     },
     "execution_count": 8,
     "metadata": {},
     "output_type": "execute_result"
    }
   ],
   "execution_count": 8
  },
  {
   "metadata": {},
   "cell_type": "code",
   "outputs": [],
   "execution_count": null,
   "source": "",
   "id": "33c81666893fd416"
  }
 ],
 "metadata": {
  "kernelspec": {
   "display_name": "Python 3",
   "language": "python",
   "name": "python3"
  },
  "language_info": {
   "codemirror_mode": {
    "name": "ipython",
    "version": 2
   },
   "file_extension": ".py",
   "mimetype": "text/x-python",
   "name": "python",
   "nbconvert_exporter": "python",
   "pygments_lexer": "ipython2",
   "version": "2.7.6"
  }
 },
 "nbformat": 4,
 "nbformat_minor": 5
}
